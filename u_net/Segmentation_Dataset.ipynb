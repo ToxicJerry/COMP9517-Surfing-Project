{
 "cells": [
  {
   "cell_type": "code",
   "execution_count": null,
   "outputs": [],
   "source": [
    "import os, sys\n",
    "\n",
    "import cv2\n",
    "import numpy as np\n",
    "import cv2 as cv\n",
    "import torch\n",
    "from torch.utils.data import Dataset, DataLoader\n",
    "import matplotlib.pylab as plt"
   ],
   "metadata": {
    "collapsed": false
   },
   "id": "5240ab40604fc23"
  },
  {
   "cell_type": "code",
   "execution_count": null,
   "outputs": [],
   "source": [
    "for i in range(1, 201):\n",
    "    image_order = \"\"\n",
    "    if 0 < i < 10:\n",
    "        image_order = \"000\" + str(i)\n",
    "    if 9 < i < 100:\n",
    "        image_order = \"00\" + str(i)\n",
    "    if 99 < i < 201:\n",
    "        image_order = \"0\" + str(i)\n",
    "    img = cv2.imread(f\"D:/PycharmProjects/COMP9517-Surfing-Project/u_net/part_images/cell{image_order}.png\")\n",
    "    img = cv2.resize(img, (320, 320), interpolation=cv2.INTER_CUBIC)\n",
    "    cv2.imwrite(f\"D:/PycharmProjects/COMP9517-Surfing-Project/u_net/part_images/cell{image_order}.png\", img)"
   ],
   "metadata": {
    "collapsed": false
   },
   "id": "d55b2690cfb42f3a"
  },
  {
   "cell_type": "code",
   "execution_count": null,
   "outputs": [],
   "source": [
    "for i in range(201, 221):\n",
    "    image_order = \"0\" + str(i)\n",
    "    img = cv2.imread(f\"D:/PycharmProjects/COMP9517-Surfing-Project/u_net/test_images/cell{image_order}.png\")\n",
    "    img = cv2.resize(img, (320, 320), interpolation=cv2.INTER_CUBIC)\n",
    "    cv2.imwrite(f\"D:/PycharmProjects/COMP9517-Surfing-Project/u_net/test_images/cell{image_order}.png\", img)"
   ],
   "metadata": {
    "collapsed": false
   },
   "id": "ce73c736896ca8a3"
  },
  {
   "cell_type": "code",
   "execution_count": null,
   "outputs": [],
   "source": [],
   "metadata": {
    "collapsed": false
   },
   "id": "b37fd00aa05049d7"
  }
 ],
 "metadata": {
  "kernelspec": {
   "display_name": "Python 3",
   "language": "python",
   "name": "python3"
  },
  "language_info": {
   "codemirror_mode": {
    "name": "ipython",
    "version": 2
   },
   "file_extension": ".py",
   "mimetype": "text/x-python",
   "name": "python",
   "nbconvert_exporter": "python",
   "pygments_lexer": "ipython2",
   "version": "2.7.6"
  }
 },
 "nbformat": 4,
 "nbformat_minor": 5
}
