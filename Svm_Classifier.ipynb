{
 "cells": [
  {
   "cell_type": "code",
   "execution_count": 1,
   "id": "798894ac8773ff6d",
   "metadata": {
    "ExecuteTime": {
     "end_time": "2023-11-09T17:27:45.312497100Z",
     "start_time": "2023-11-09T17:27:45.268365600Z"
    }
   },
   "outputs": [],
   "source": [
    "import cv2\n",
    "import numpy as np\n",
    "from sklearn.model_selection import train_test_split, GridSearchCV\n",
    "from sklearn.preprocessing import MinMaxScaler\n",
    "from sklearn.decomposition import PCA\n",
    "from sklearn.pipeline import Pipeline\n",
    "from sklearn import metrics\n",
    "from sklearn.svm import SVC\n",
    "import matplotlib.pyplot as plt\n",
    "from utils.elpv_reader import load_dataset\n",
    "import warnings\n",
    "warnings.filterwarnings('ignore', category=metrics._classification.UndefinedMetricWarning)"
   ]
  },
  {
   "cell_type": "markdown",
   "id": "8dbe4032d90cd92a",
   "metadata": {},
   "source": [
    "### Step1:  Load the dataset"
   ]
  },
  {
   "cell_type": "code",
   "execution_count": 2,
   "id": "a3279c3c3e82b855",
   "metadata": {
    "ExecuteTime": {
     "end_time": "2023-11-09T04:56:26.475654600Z",
     "start_time": "2023-11-09T04:55:56.934896400Z"
    }
   },
   "outputs": [
    {
     "name": "stdout",
     "output_type": "stream",
     "text": [
      "The size of the data set is: 2624\n",
      "The size of the image is: 300 * 300\n",
      "[1. 1. 1. ... 0. 0. 0.]\n",
      "['mono' 'mono' 'mono' ... 'poly' 'poly' 'poly']\n"
     ]
    }
   ],
   "source": [
    "# Respectively: image, reflection probability, type. Our classifier needs to classify based on reflection probability\n",
    "images, proba, types = load_dataset()\n",
    "print(f\"The size of the data set is: {images.shape[0]}\")\n",
    "print(f\"The size of the image is: {images.shape[1]} * {images.shape[2]}\")\n",
    "print(proba)\n",
    "print(types)"
   ]
  },
  {
   "cell_type": "markdown",
   "id": "2c8a2bdb22cbe313",
   "metadata": {},
   "source": [
    "### Step2: Convert each image to the pixel histogram"
   ]
  },
  {
   "cell_type": "code",
   "execution_count": 3,
   "id": "5a64daf40d020ea4",
   "metadata": {
    "ExecuteTime": {
     "end_time": "2023-11-09T15:06:00.858164400Z",
     "start_time": "2023-11-09T15:06:00.600088300Z"
    }
   },
   "outputs": [
    {
     "name": "stdout",
     "output_type": "stream",
     "text": [
      "(2624, 256)\n"
     ]
    },
    {
     "data": {
      "image/png": "[encoded data removed]",
      "text/plain": [
       "<Figure size 640x480 with 1 Axes>"
      ]
     },
     "metadata": {},
     "output_type": "display_data"
    }
   ],
   "source": [
    "image_his = []\n",
    "\n",
    "for image in images:\n",
    "    hist = cv2.calcHist([image], [0], None, [256], [0.0, 255.0])\n",
    "    image_his.append(hist.flatten())\n",
    "    \n",
    "image_his = np.array(image_his)\n",
    "print(image_his.shape)\n",
    "plt.plot(image_his[0])\n",
    "plt.show()"
   ]
  },
  {
   "cell_type": "markdown",
   "id": "7419097127059e99",
   "metadata": {},
   "source": [
    "### Step3: Classify images into \"mono\" and \"poly\" based on \"types\""
   ]
  },
  {
   "cell_type": "code",
   "execution_count": 4,
   "id": "903831c3d0d0623c",
   "metadata": {
    "ExecuteTime": {
     "end_time": "2023-11-09T15:06:13.400858100Z",
     "start_time": "2023-11-09T15:06:13.381476500Z"
    }
   },
   "outputs": [],
   "source": [
    "mono_images = []\n",
    "mono_proba = []\n",
    "mono_his = []\n",
    "poly_images = []\n",
    "poly_proba = []\n",
    "poly_his = []\n",
    "\n",
    "for i in range(len(images)):\n",
    "    if types[i] == \"mono\":\n",
    "        mono_images.append(images[i])\n",
    "        mono_proba.append(proba[i])\n",
    "        mono_his.append(image_his[i])\n",
    "        \n",
    "    elif types[i] == \"poly\":\n",
    "        poly_images.append(images[i])\n",
    "        poly_proba.append((proba[i]))\n",
    "        poly_his.append(image_his[i])\n",
    "\n",
    "# Convert lists to NumPy arrays\n",
    "mono_his = np.array(mono_his)\n",
    "mono_proba = np.array(mono_proba)\n",
    "poly_his = np.array(poly_his)\n",
    "poly_proba = np.array(poly_proba)"
   ]
  },
  {
   "cell_type": "markdown",
   "id": "3ff255ea8857e69b",
   "metadata": {},
   "source": [
    "### Step3: Split the dataset into train set and test set"
   ]
  },
  {
   "cell_type": "code",
   "execution_count": 5,
   "id": "c02cd96f44b6a34",
   "metadata": {
    "ExecuteTime": {
     "end_time": "2023-11-09T15:06:17.260247200Z",
     "start_time": "2023-11-09T15:06:17.208210300Z"
    }
   },
   "outputs": [],
   "source": [
    "# split the all dataset into train set and test set\n",
    "all_x_train, all_x_test, all_y_train, all_y_test = train_test_split(image_his, proba, test_size=0.25, stratify=proba, random_state=42)\n",
    "# split the mono dataset into train set and test set\n",
    "mono_x_train, mono_x_test, mono_y_train, mono_y_test = train_test_split(mono_his, mono_proba, test_size=0.25, stratify=mono_proba, random_state=42)\n",
    "# split the poly dataset into train set and test set\n",
    "poly_x_train, poly_x_test, poly_y_train, poly_y_test = train_test_split(poly_his, poly_proba, test_size=0.25, stratify=poly_proba, random_state=42)\n",
    "\n",
    "# normalization\n",
    "scaler = MinMaxScaler()\n",
    "all_x_train = scaler.fit_transform(all_x_train)\n",
    "all_x_test = scaler.fit_transform(all_x_test)\n",
    "mono_x_train = scaler.fit_transform(mono_x_train)\n",
    "mono_x_test = scaler.fit_transform(mono_x_test)\n",
    "poly_x_train = scaler.fit_transform(poly_x_train)\n",
    "poly_x_test = scaler.fit_transform(poly_x_test)"
   ]
  },
  {
   "cell_type": "markdown",
   "id": "c1e31417eb26cb6f",
   "metadata": {},
   "source": [
    "### Step4: Use the PCA and SVM classifier to process all dataset"
   ]
  },
  {
   "cell_type": "code",
   "execution_count": null,
   "id": "1d49e68c5b9f259",
   "metadata": {
    "ExecuteTime": {
     "end_time": "2023-11-09T16:39:07.323159900Z",
     "start_time": "2023-11-09T15:48:54.752446400Z"
    }
   },
   "outputs": [],
   "source": [
    "pipeline = Pipeline([\n",
    "    ('pca', PCA()),\n",
    "    ('svm', SVC())\n",
    "])\n",
    "\n",
    "param_grid = [{\n",
    "    'pca__n_components': range(1, image_his.shape[1] + 1),\n",
    "    'svm__C': [0.1, 1, 10, 20, 50, 100],\n",
    "    'svm__kernel': ['linear']\n",
    "},\n",
    "{\n",
    "    'pca__n_components': range(1, image_his.shape[1] + 1),\n",
    "    'svm__C': [0.1, 1, 10, 20],\n",
    "    'svm__gamma': ['scale', 'auto', 0.01, 0.1, 1],\n",
    "    'svm__kernel': ['rbf']\n",
    "}]\n",
    "\n",
    "grid_search = GridSearchCV(pipeline, param_grid, cv=5, scoring='accuracy', n_jobs=-1, verbose=100)\n",
    "grid_search.fit(all_x_train, all_y_train.astype(\"str\"))"
   ]
  },
  {
   "cell_type": "markdown",
   "id": "a2a8568000f6ea7a",
   "metadata": {},
   "source": [
    "### Step5: Use the PCA and SVM classifier to process mono dataset"
   ]
  },
  {
   "cell_type": "markdown",
   "id": "2154b41b86be716",
   "metadata": {
    "ExecuteTime": {
     "end_time": "2023-11-09T16:52:32.263875200Z",
     "start_time": "2023-11-09T16:46:50.015448700Z"
    }
   },
   "source": [
    "mono_grid_search = GridSearchCV(pipeline, param_grid, cv=5, scoring='accuracy', n_jobs=-1, verbose=100)\n",
    "mono_grid_search.fit(mono_x_train, mono_y_train.astype(\"str\"))"
   ]
  },
  {
   "cell_type": "code",
   "execution_count": 7,
   "id": "14ef66cf198eed96",
   "metadata": {},
   "outputs": [],
   "source": [
    "### Step6: Use the PCA and SVM classifier to process poly dataset"
   ]
  },
  {
   "cell_type": "markdown",
   "id": "4c1c2582e040bff7",
   "metadata": {
    "ExecuteTime": {
     "end_time": "2023-11-09T17:08:35.111211600Z",
     "start_time": "2023-11-09T16:52:47.762991700Z"
    }
   },
   "source": [
    "poly_grid_search = GridSearchCV(pipeline, param_grid, cv=5, scoring='accuracy', n_jobs=-1, verbose=100)\n",
    "poly_grid_search.fit(poly_x_train, poly_y_train.astype(\"str\"))"
   ]
  },
  {
   "cell_type": "code",
   "execution_count": 8,
   "id": "c169a039ece647a8",
   "metadata": {},
   "outputs": [],
   "source": [
    "### Step7: Report the performance of the classifier"
   ]
  },
  {
   "cell_type": "markdown",
   "id": "b5a91b4d",
   "metadata": {
    "ExecuteTime": {
     "start_time": "2023-11-05T03:59:37.701515200Z"
    }
   },
   "source": [
    "# Test"
   ]
  },
  {
   "cell_type": "code",
   "execution_count": 9,
   "id": "b86102b4",
   "metadata": {
    "ExecuteTime": {
     "end_time": "2023-11-09T17:21:29.903453900Z",
     "start_time": "2023-11-09T17:21:26.313592600Z"
    }
   },
   "outputs": [],
   "source": [
    "from sklearn.metrics import confusion_matrix\n",
    "import pandas as pd"
   ]
  },
  {
   "cell_type": "markdown",
   "id": "9ec5a245",
   "metadata": {},
   "source": [
    "### 1. Calculate the confusion matrix for all test images"
   ]
  },
  {
   "cell_type": "code",
   "execution_count": 38,
   "id": "e18d44bd",
   "metadata": {},
   "outputs": [
    {
     "name": "stdout",
     "output_type": "stream",
     "text": [
      "Confusion Matrix (All Test Images):\n",
      "\t0.0\t0.3333\t0.6666\t1.0\n",
      "0.0\t349\t3\t1\t24\t\n",
      "0.3333\t67\t2\t0\t5\t\n",
      "0.6666\t24\t0\t0\t2\t\n",
      "1.0\t93\t0\t1\t85\t\n",
      "\n",
      "Class 0.0:\n",
      "Precision: 0.65\n",
      "Recall: 0.93\n",
      "F1 Score: 0.77\n",
      "\n",
      "Class 0.3333:\n",
      "Precision: 0.40\n",
      "Recall: 0.03\n",
      "F1 Score: 0.05\n",
      "\n",
      "Class 0.6666:\n",
      "Precision: 0.00\n",
      "Recall: 0.00\n",
      "F1 Score: 0.00\n",
      "\n",
      "Class 1.0:\n",
      "Precision: 0.73\n",
      "Recall: 0.47\n",
      "F1 Score: 0.58\n",
      "\n",
      "Class 0.0:\n",
      "Accuracy: 67.68%\n",
      "\n",
      "Class 0.3333:\n",
      "Accuracy: 88.57%\n",
      "\n",
      "Class 0.6666:\n",
      "Accuracy: 95.73%\n",
      "\n",
      "Class 1.0:\n",
      "Accuracy: 80.95%\n"
     ]
    }
   ],
   "source": [
    "# Calculate the confusion matrix for all test images\n",
    "predict_labels = grid_search.predict(all_x_test)\n",
    "confusion_all = confusion_matrix(all_y_test.astype(\"str\"), predict_labels)\n",
    "# print(confusion_all)\n",
    "confusion_all = np.array(confusion_all)\n",
    "\n",
    "# Class label\n",
    "class_labels = [\"0.0\", \"0.3333\", \"0.6666\", \"1.0\"]\n",
    "\n",
    "# Print confusion matrix\n",
    "print(\"Confusion Matrix (All Test Images):\")\n",
    "print(\"\\t\" + \"\\t\".join(class_labels))\n",
    "for i in range(len(class_labels)):\n",
    "    print(class_labels[i] + \"\\t\", end=\"\")\n",
    "    for j in range(len(class_labels)):\n",
    "        print(confusion_all[i][j], end=\"\\t\")\n",
    "    print()\n",
    "\n",
    "# Calculate accuracy, recall and F1 scores\n",
    "for i in range(len(class_labels)):\n",
    "    tp = confusion_all[i][i]\n",
    "    fp = sum(confusion_all[j][i] for j in range(len(class_labels)) if j != i)\n",
    "    fn = sum(confusion_all[i][j] for j in range(len(class_labels)) if j != i)\n",
    "    precision = tp / (tp + fp)\n",
    "    recall = tp / (tp + fn)\n",
    "    if precision + recall == 0:\n",
    "        f1 = 0\n",
    "    else:\n",
    "        f1 = 2 * (precision * recall) / (precision + recall)\n",
    "\n",
    "    print(f\"\\nClass {class_labels[i]}:\")\n",
    "    print(f\"Precision: {precision:.2f}\")\n",
    "    print(f\"Recall: {recall:.2f}\")\n",
    "    print(f\"F1 Score: {f1:.2f}\")\n",
    "\n",
    "# Calculate and output the Accuracy for each class\n",
    "for i in range(len(class_labels)):\n",
    "    tp = confusion_all[i][i]\n",
    "    tn = sum(confusion_all[j][k] for j in range(len(class_labels)) for k in range(len(class_labels)) if j != i and k != i)\n",
    "    fp = sum(confusion_all[j][i] for j in range(len(class_labels)) if j != i)\n",
    "    fn = sum(confusion_all[i][j] for j in range(len(class_labels)) if j != i)\n",
    "    \n",
    "    accuracy_class_i = (tp + tn) / (tp + tn + fp + fn)\n",
    "    \n",
    "    print(f\"\\nClass {class_labels[i]}:\")\n",
    "    print(f\"Accuracy: {accuracy_class_i:.2%}\")\n"
   ]
  },
  {
   "cell_type": "markdown",
   "id": "01bbc95f",
   "metadata": {},
   "source": [
    "### 2.Calculate the confusion matrix for monocrystalline"
   ]
  },
  {
   "cell_type": "code",
   "execution_count": 25,
   "id": "bbbe3a9d",
   "metadata": {},
   "outputs": [
    {
     "name": "stdout",
     "output_type": "stream",
     "text": [
      "y_test size: (269,)\n",
      "predict_labels size: (656,)\n"
     ]
    }
   ],
   "source": [
    "print(\"y_test size:\", mono_y_test.shape)\n",
    "print(\"predict_labels size:\", predict_labels.shape)"
   ]
  },
  {
   "cell_type": "code",
   "execution_count": 26,
   "id": "7a4026f9",
   "metadata": {},
   "outputs": [
    {
     "name": "stdout",
     "output_type": "stream",
     "text": [
      "Monocrystalline Indices Range: 0 to 2443\n"
     ]
    }
   ],
   "source": [
    "# monocrystalline_indices range of index values\n",
    "y_test = all_y_test.astype(\"str\")\n",
    "monocrystalline_indices = np.where(types == 'mono')\n",
    "print(\"Monocrystalline Indices Range:\", min(monocrystalline_indices[0]), \"to\", max(monocrystalline_indices[0]))"
   ]
  },
  {
   "cell_type": "code",
   "execution_count": 27,
   "id": "92475c5a",
   "metadata": {},
   "outputs": [
    {
     "name": "stdout",
     "output_type": "stream",
     "text": [
      "['mono' 'poly']\n"
     ]
    }
   ],
   "source": [
    "# Prints the unique value of the types array\n",
    "unique_types = np.unique(types)\n",
    "print(unique_types)\n"
   ]
  },
  {
   "cell_type": "code",
   "execution_count": 28,
   "id": "5a247ed0",
   "metadata": {},
   "outputs": [],
   "source": [
    "# calculate monocrystalline_indices\n",
    "monocrystalline_indices = np.where(types == 'mono')[0]  # Extract the index array with [0]\n",
    "\n",
    "# Create a y_test_mono array that contains only the real labels for images of type \"monocrystalline\"\n",
    "y_test_mono = all_y_test[monocrystalline_indices[monocrystalline_indices < len(all_y_test)]]\n",
    "\n",
    "# Creates the predict_labels_mono array that contains only prediction labels for images of type \"monocrystalline\"\n",
    "predict_labels_mono = predict_labels[monocrystalline_indices[monocrystalline_indices < len(all_y_test)]]"
   ]
  },
  {
   "cell_type": "code",
   "execution_count": 29,
   "id": "7e71d368",
   "metadata": {},
   "outputs": [
    {
     "name": "stdout",
     "output_type": "stream",
     "text": [
      "Indices with mismatched labels: [0]\n"
     ]
    },
    {
     "name": "stderr",
     "output_type": "stream",
     "text": [
      "/var/folders/2f/yj4193f95b58g8d0ymcxp11w0000gn/T/ipykernel_60889/3185375691.py:2: FutureWarning: elementwise comparison failed; returning scalar instead, but in the future will perform elementwise comparison\n",
      "  mismatched_indices = np.where(types != y_test)[0]\n"
     ]
    }
   ],
   "source": [
    "# Check that the sample in the types array matches the label in the corresponding position in y_test\n",
    "mismatched_indices = np.where(types != y_test)[0]\n",
    "print(\"Indices with mismatched labels:\", mismatched_indices)\n"
   ]
  },
  {
   "cell_type": "code",
   "execution_count": 30,
   "id": "83a00ee3",
   "metadata": {},
   "outputs": [
    {
     "name": "stdout",
     "output_type": "stream",
     "text": [
      "Sample at index 0 - 'types' label: mono, 'y_test' label: 0.6666666666666666\n"
     ]
    }
   ],
   "source": [
    "print(f\"Sample at index 0 - 'types' label: {types[0]}, 'y_test' label: {y_test[0]}\")"
   ]
  },
  {
   "cell_type": "code",
   "execution_count": 41,
   "id": "a0d2b073",
   "metadata": {},
   "outputs": [
    {
     "name": "stdout",
     "output_type": "stream",
     "text": [
      "\n",
      "Confusion Matrix (monocrystalline):\n",
      "                    0.0  0.3333333333333333  0.6666666666666666  1.0\n",
      "0.0                 120                   1                   0   11\n",
      "0.3333333333333333   25                   2                   0    2\n",
      "0.6666666666666666   11                   0                   0    1\n",
      "1.0                  41                   0                   0   26\n",
      "\n",
      "Class 0.0:\n",
      "Precision: 0.61\n",
      "Recall: 0.91\n",
      "F1 Score: 0.73\n",
      "\n",
      "Class 0.3333333333333333:\n",
      "Precision: 0.67\n",
      "Recall: 0.07\n",
      "F1 Score: 0.12\n",
      "\n",
      "Class 0.6666666666666666:\n",
      "Precision: 0.00\n",
      "Recall: 0.00\n",
      "F1 Score: 0.00\n",
      "\n",
      "Class 1.0:\n",
      "Precision: 0.65\n",
      "Recall: 0.39\n",
      "F1 Score: 0.49\n",
      "\n",
      "Class 0.0 in monocrystalline:\n",
      "Accuracy: 62.92%\n",
      "\n",
      "Class 0.3333333333333333 in monocrystalline:\n",
      "Accuracy: 88.33%\n",
      "\n",
      "Class 0.6666666666666666 in monocrystalline:\n",
      "Accuracy: 95.00%\n",
      "\n",
      "Class 1.0 in monocrystalline:\n",
      "Accuracy: 77.08%\n"
     ]
    }
   ],
   "source": [
    "# Computational confusion matrix\n",
    "confusion_mono = confusion_matrix(y_test_mono.astype(\"str\"), predict_labels_mono)\n",
    "\n",
    "# Creates row and column labels for the confusion matrix\n",
    "class_labels = ['0.0', '0.3333333333333333', '0.6666666666666666', '1.0']\n",
    "\n",
    "# Create a data box with an explained confusion matrix\n",
    "confusion_mono_df = pd.DataFrame(confusion_mono, index=class_labels, columns=class_labels)\n",
    "\n",
    "print(\"\\nConfusion Matrix (monocrystalline):\")\n",
    "print(confusion_mono_df)\n",
    "\n",
    "# Calculate accuracy, recall and F1 scores\n",
    "for i in range(len(class_labels)):\n",
    "    tp = confusion_mono[i][i]\n",
    "    fp = sum(confusion_mono[j][i] for j in range(len(class_labels)) if j != i)\n",
    "    fn = sum(confusion_mono[i][j] for j in range(len(class_labels)) if j != i)\n",
    "   \n",
    "    # Check if the denominator is zero before performing the division\n",
    "    if tp + fp == 0:\n",
    "        precision = 0\n",
    "    else:\n",
    "        precision = tp / (tp + fp)\n",
    "\n",
    "    recall = tp / (tp + fn)\n",
    "    if precision + recall == 0:\n",
    "        f1 = 0\n",
    "    else:\n",
    "        f1 = 2 * (precision * recall) / (precision + recall)\n",
    "\n",
    "    print(f\"\\nClass {class_labels[i]}:\")\n",
    "    print(f\"Precision: {precision:.2f}\")\n",
    "    print(f\"Recall: {recall:.2f}\")\n",
    "    print(f\"F1 Score: {f1:.2f}\")\n",
    "\n",
    "# Calculate and output the Accuracy for each class in monocrystalline\n",
    "for i in range(len(class_labels)):\n",
    "    tp = confusion_mono[i][i]\n",
    "    tn = sum(confusion_mono[j][k] for j in range(len(class_labels)) for k in range(len(class_labels)) if j != i and k != i)\n",
    "    fp = sum(confusion_mono[j][i] for j in range(len(class_labels)) if j != i)\n",
    "    fn = sum(confusion_mono[i][j] for j in range(len(class_labels)) if j != i)\n",
    "    \n",
    "    accuracy_class_i = (tp + tn) / (tp + tn + fp + fn)\n",
    "    \n",
    "    print(f\"\\nClass {class_labels[i]} in monocrystalline:\")\n",
    "    print(f\"Accuracy: {accuracy_class_i:.2%}\")"
   ]
  },
  {
   "cell_type": "markdown",
   "id": "b5862191",
   "metadata": {},
   "source": [
    "### 3.Calculate the confusion matrix for polycrystalline"
   ]
  },
  {
   "cell_type": "code",
   "execution_count": 32,
   "id": "39434f9a",
   "metadata": {},
   "outputs": [],
   "source": [
    "from sklearn.metrics import confusion_matrix"
   ]
  },
  {
   "cell_type": "code",
   "execution_count": 33,
   "id": "334b84f4",
   "metadata": {},
   "outputs": [
    {
     "name": "stdout",
     "output_type": "stream",
     "text": [
      "The types array contains labels of type 'poly'\n"
     ]
    }
   ],
   "source": [
    "# Check that the types array contains labels of type 'poly'\n",
    "contains_poly = 'poly' in types\n",
    "\n",
    "if contains_poly:\n",
    "    print(\"The types array contains labels of type 'poly'\")\n",
    "else:\n",
    "    print(\"The types array does not contain labels of type 'poly'\")"
   ]
  },
  {
   "cell_type": "code",
   "execution_count": 35,
   "id": "14c3f246",
   "metadata": {},
   "outputs": [],
   "source": [
    "# print(\"y_test size:\", y_test.shape)\n",
    "\n",
    "# # predict_labels size\n",
    "# predict_labels = svm_classifier.predict(his_test)\n",
    "# print(\"predict_labels size:\", predict_labels.shape)"
   ]
  },
  {
   "cell_type": "code",
   "execution_count": 36,
   "id": "e67b5941",
   "metadata": {},
   "outputs": [
    {
     "name": "stdout",
     "output_type": "stream",
     "text": [
      "[  60   61   62 ... 2621 2622 2623]\n"
     ]
    }
   ],
   "source": [
    "polycrystalline_indices = np.where(types == 'poly')[0]\n",
    "print(polycrystalline_indices)"
   ]
  },
  {
   "cell_type": "code",
   "execution_count": 42,
   "id": "7aaf2d08",
   "metadata": {
    "scrolled": true
   },
   "outputs": [
    {
     "name": "stdout",
     "output_type": "stream",
     "text": [
      "Confusion Matrix (poly):\n",
      "                    0.0  0.3333333333333333  0.6666666666666666  1.0\n",
      "0.0                 229                   2                   1   13\n",
      "0.3333333333333333   42                   0                   0    3\n",
      "0.6666666666666666   13                   0                   0    1\n",
      "1.0                  52                   0                   1   59\n",
      "\n",
      "Class 0.0:\n",
      "Precision: 0.68\n",
      "Recall: 0.93\n",
      "F1 Score: 0.79\n",
      "\n",
      "Class 0.3333333333333333:\n",
      "Precision: 0.00\n",
      "Recall: 0.00\n",
      "F1 Score: 0.00\n",
      "\n",
      "Class 0.6666666666666666:\n",
      "Precision: 0.00\n",
      "Recall: 0.00\n",
      "F1 Score: 0.00\n",
      "\n",
      "Class 1.0:\n",
      "Precision: 0.78\n",
      "Recall: 0.53\n",
      "F1 Score: 0.63\n",
      "\n",
      "Class 0.0 in polycrystalline:\n",
      "Accuracy: 70.43%\n",
      "\n",
      "Class 0.3333333333333333 in polycrystalline:\n",
      "Accuracy: 88.70%\n",
      "\n",
      "Class 0.6666666666666666 in polycrystalline:\n",
      "Accuracy: 96.15%\n",
      "\n",
      "Class 1.0 in polycrystalline:\n",
      "Accuracy: 83.17%\n"
     ]
    }
   ],
   "source": [
    "y_test_poly = all_y_test[polycrystalline_indices[polycrystalline_indices < len(all_y_test)]]\n",
    "predict_labels_poly = predict_labels[polycrystalline_indices[polycrystalline_indices < len(all_y_test)]]\n",
    "\n",
    "# The confusion matrix of polycrystalline hybrid samples is calculated\n",
    "confusion_poly = confusion_matrix(y_test_poly.astype(\"str\"), predict_labels_poly)\n",
    "\n",
    "# Creates row and column labels for the confusion matrix\n",
    "class_labels = ['0.0', '0.3333333333333333', '0.6666666666666666', '1.0']\n",
    "\n",
    "# Create a data box to display the confusion matrix\n",
    "confusion_poly_df = pd.DataFrame(confusion_poly, index=class_labels, columns=class_labels)\n",
    "\n",
    "# Print confusion matrix\n",
    "print(\"Confusion Matrix (poly):\")\n",
    "print(confusion_poly_df)\n",
    "\n",
    "\n",
    "# Calculate and output the Precision, Recall, and F1 Score for each category\n",
    "for i in range(len(class_labels)):\n",
    "    tp = confusion_poly[i][i]\n",
    "    fp = sum(confusion_poly[j][i] for j in range(len(class_labels)) if j != i)\n",
    "    fn = sum(confusion_poly[i][j] for j in range(len(class_labels)) if j != i)\n",
    "    precision = tp / (tp + fp)\n",
    "    recall = tp / (tp + fn)\n",
    "    if precision + recall == 0:\n",
    "        f1 = 0\n",
    "    else:\n",
    "        f1 = 2 * (precision * recall) / (precision + recall)\n",
    "    \n",
    "    print(f\"\\nClass {class_labels[i]}:\")\n",
    "    print(f\"Precision: {precision:.2f}\")\n",
    "    print(f\"Recall: {recall:.2f}\")\n",
    "    print(f\"F1 Score: {f1:.2f}\")\n",
    "\n",
    "# Calculate and output the Accuracy for each class in polycrystalline\n",
    "for i in range(len(class_labels)):\n",
    "    tp = confusion_poly[i][i]\n",
    "    tn = sum(confusion_poly[j][k] for j in range(len(class_labels)) for k in range(len(class_labels)) if j != i and k != i)\n",
    "    fp = sum(confusion_poly[j][i] for j in range(len(class_labels)) if j != i)\n",
    "    fn = sum(confusion_poly[i][j] for j in range(len(class_labels)) if j != i)\n",
    "    \n",
    "    accuracy_class_i = (tp + tn) / (tp + tn + fp + fn)\n",
    "    \n",
    "    print(f\"\\nClass {class_labels[i]} in polycrystalline:\")\n",
    "    print(f\"Accuracy: {accuracy_class_i:.2%}\")"
   ]
  },
  {
   "cell_type": "code",
   "execution_count": null,
   "id": "db861923",
   "metadata": {},
   "outputs": [],
   "source": []
  },
  {
   "cell_type": "code",
   "execution_count": null,
   "id": "e93848da",
   "metadata": {},
   "outputs": [],
   "source": []
  },
  {
   "cell_type": "code",
   "execution_count": null,
   "id": "d64c73b0",
   "metadata": {},
   "outputs": [],
   "source": []
  },
  {
   "cell_type": "code",
   "execution_count": null,
   "id": "b9de648d",
   "metadata": {},
   "outputs": [],
   "source": []
  }
 ],
 "metadata": {
  "celltoolbar": "Edit Metadata",
  "kernelspec": {
   "display_name": "Python 3 (ipykernel)",
   "language": "python",
   "name": "python3"
  },
  "language_info": {
   "codemirror_mode": {
    "name": "ipython",
    "version": 3
   },
   "file_extension": ".py",
   "mimetype": "text/x-python",
   "name": "python",
   "nbconvert_exporter": "python",
   "pygments_lexer": "ipython3",
   "version": "3.8.18"
  }
 },
 "nbformat": 4,
 "nbformat_minor": 5
}
