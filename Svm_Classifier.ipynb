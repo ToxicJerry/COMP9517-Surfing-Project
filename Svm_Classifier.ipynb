{
 "cells": [
  {
   "cell_type": "code",
   "execution_count": 1,
   "id": "798894ac8773ff6d",
   "metadata": {
    "ExecuteTime": {
     "end_time": "2023-11-08T19:54:55.284797700Z",
     "start_time": "2023-11-08T19:54:53.836813200Z"
    }
   },
   "outputs": [],
   "source": [
    "import cv2\n",
    "import numpy as np\n",
    "from sklearn.model_selection import train_test_split, GridSearchCV\n",
    "from sklearn.preprocessing import MinMaxScaler\n",
    "from sklearn.decomposition import PCA\n",
    "from sklearn.pipeline import Pipeline\n",
    "from sklearn import metrics\n",
    "from sklearn.svm import SVC\n",
    "import matplotlib.pyplot as plt\n",
    "from utils.elpv_reader import load_dataset"
   ]
  },
  {
   "cell_type": "markdown",
   "id": "8dbe4032d90cd92a",
   "metadata": {},
   "source": [
    "Step1:  Load the dataset"
   ]
  },
  {
   "cell_type": "code",
   "execution_count": 7,
   "id": "a3279c3c3e82b855",
   "metadata": {
    "ExecuteTime": {
     "end_time": "2023-11-08T20:07:42.420099Z",
     "start_time": "2023-11-08T20:07:37.156625500Z"
    }
   },
   "outputs": [
    {
     "name": "stdout",
     "output_type": "stream",
     "text": [
      "The size of the data set is: 2624\n",
      "The size of the image is: 300 * 300\n",
      "[1. 1. 1. ... 0. 0. 0.]\n",
      "['mono' 'mono' 'mono' ... 'poly' 'poly' 'poly']\n"
     ]
    }
   ],
   "source": [
    "# Respectively: image, reflection probability, type. Our classifier needs to classify based on reflection probability\n",
    "images, proba, types = load_dataset()\n",
    "print(f\"The size of the data set is: {images.shape[0]}\")\n",
    "print(f\"The size of the image is: {images.shape[1]} * {images.shape[2]}\")\n",
    "print(proba)\n",
    "print(types)"
   ]
  },
  {
   "cell_type": "markdown",
   "source": [
    "Step2: Convert each image to the pixel histogram"
   ],
   "metadata": {
    "collapsed": false
   },
   "id": "2c8a2bdb22cbe313"
  },
  {
   "cell_type": "code",
   "execution_count": 8,
   "outputs": [],
   "source": [
    "image_his = []\n",
    "\n",
    "for image in images:\n",
    "    hist = cv2.calcHist([image], [0], None, [256], [0.0, 255.0])\n",
    "    image_his.append(hist.flatten())\n",
    "\n",
    "# normalization\n",
    "scaler = MinMaxScaler()\n",
    "image_his = scaler.fit_transform(image_his)"
   ],
   "metadata": {
    "collapsed": false,
    "ExecuteTime": {
     "end_time": "2023-11-08T20:07:45.478547800Z",
     "start_time": "2023-11-08T20:07:45.265589100Z"
    }
   },
   "id": "5a64daf40d020ea4"
  },
  {
   "cell_type": "code",
   "execution_count": 9,
   "outputs": [
    {
     "name": "stdout",
     "output_type": "stream",
     "text": [
      "(2624, 256)\n"
     ]
    },
    {
     "data": {
      "text/plain": "<Figure size 640x480 with 1 Axes>",
      "image/png": "[encoded data removed]"
     },
     "metadata": {},
     "output_type": "display_data"
    }
   ],
   "source": [
    "print(image_his.shape)\n",
    "plt.plot(image_his[0])\n",
    "plt.show()"
   ],
   "metadata": {
    "collapsed": false,
    "ExecuteTime": {
     "end_time": "2023-11-08T20:07:46.277318300Z",
     "start_time": "2023-11-08T20:07:46.116758100Z"
    }
   },
   "id": "e7fd780964ba4135"
  },
  {
   "cell_type": "markdown",
   "id": "3ff255ea8857e69b",
   "metadata": {},
   "source": [
    "Step3: Split the dataset into train set and test set"
   ]
  },
  {
   "cell_type": "code",
   "execution_count": 13,
   "id": "c02cd96f44b6a34",
   "metadata": {
    "ExecuteTime": {
     "end_time": "2023-11-08T20:08:16.926322700Z",
     "start_time": "2023-11-08T20:08:16.902652200Z"
    }
   },
   "outputs": [],
   "source": [
    "# split the dataset into train set and test set\n",
    "x_train, x_test, y_train, y_test = train_test_split(image_his, proba, test_size=0.25, stratify=proba, random_state=42)"
   ]
  },
  {
   "cell_type": "markdown",
   "id": "c1e31417eb26cb6f",
   "metadata": {},
   "source": [
    "Step4: Use the SVM classifier to process the dataset"
   ]
  },
  {
   "cell_type": "code",
   "execution_count": 44,
   "id": "d25e429fcd4c23a5",
   "metadata": {
    "ExecuteTime": {
     "end_time": "2023-11-08T20:45:30.569264Z",
     "start_time": "2023-11-08T20:45:29.979949200Z"
    }
   },
   "outputs": [],
   "source": [
    "# kernel options: ‘linear’, ‘poly’, ‘rbf’, ‘sigmoid’, ‘precomputed’\n",
    "# when doing classifier, y_train is a vector of integers or strings\n",
    "svm_classifier = SVC(C=10, gamma=0.1, kernel=\"rbf\").fit(x_train, y_train.astype(\"str\"))\n",
    "predict_labels = svm_classifier.predict(x_test)"
   ]
  },
  {
   "cell_type": "markdown",
   "id": "905ff789b84dc09f",
   "metadata": {},
   "source": [
    "Step5: Report the performance of SVM"
   ]
  },
  {
   "cell_type": "code",
   "execution_count": 45,
   "id": "1058e667cb96903",
   "metadata": {
    "ExecuteTime": {
     "end_time": "2023-11-08T20:45:32.125508900Z",
     "start_time": "2023-11-08T20:45:32.068317600Z"
    }
   },
   "outputs": [
    {
     "name": "stdout",
     "output_type": "stream",
     "text": [
      "                    precision    recall  f1-score   support\n",
      "\n",
      "               0.0       0.67      0.94      0.78       377\n",
      "0.3333333333333333       0.00      0.00      0.00        74\n",
      "0.6666666666666666       0.00      0.00      0.00        26\n",
      "               1.0       0.74      0.50      0.60       179\n",
      "\n",
      "          accuracy                           0.68       656\n",
      "         macro avg       0.35      0.36      0.35       656\n",
      "      weighted avg       0.59      0.68      0.61       656\n"
     ]
    },
    {
     "name": "stderr",
     "output_type": "stream",
     "text": [
      "D:\\anaconda3\\envs\\comp9517\\lib\\site-packages\\sklearn\\metrics\\_classification.py:1469: UndefinedMetricWarning: Precision and F-score are ill-defined and being set to 0.0 in labels with no predicted samples. Use `zero_division` parameter to control this behavior.\n",
      "  _warn_prf(average, modifier, msg_start, len(result))\n",
      "D:\\anaconda3\\envs\\comp9517\\lib\\site-packages\\sklearn\\metrics\\_classification.py:1469: UndefinedMetricWarning: Precision and F-score are ill-defined and being set to 0.0 in labels with no predicted samples. Use `zero_division` parameter to control this behavior.\n",
      "  _warn_prf(average, modifier, msg_start, len(result))\n",
      "D:\\anaconda3\\envs\\comp9517\\lib\\site-packages\\sklearn\\metrics\\_classification.py:1469: UndefinedMetricWarning: Precision and F-score are ill-defined and being set to 0.0 in labels with no predicted samples. Use `zero_division` parameter to control this behavior.\n",
      "  _warn_prf(average, modifier, msg_start, len(result))\n"
     ]
    }
   ],
   "source": [
    "print(metrics.classification_report(y_test.astype(\"str\"), predict_labels))"
   ]
  },
  {
   "cell_type": "code",
   "execution_count": 29,
   "outputs": [
    {
     "name": "stdout",
     "output_type": "stream",
     "text": [
      "After the PCA, the feature number is: 1\n",
      "After the PCA, the feature number is: 2\n",
      "After the PCA, the feature number is: 3\n",
      "After the PCA, the feature number is: 4\n",
      "After the PCA, the feature number is: 5\n",
      "After the PCA, the feature number is: 6\n",
      "After the PCA, the feature number is: 7\n",
      "After the PCA, the feature number is: 8\n",
      "After the PCA, the feature number is: 9\n",
      "After the PCA, the feature number is: 10\n",
      "After the PCA, the feature number is: 11\n",
      "After the PCA, the feature number is: 12\n",
      "After the PCA, the feature number is: 13\n",
      "After the PCA, the feature number is: 14\n",
      "After the PCA, the feature number is: 15\n",
      "After the PCA, the feature number is: 16\n",
      "After the PCA, the feature number is: 17\n",
      "After the PCA, the feature number is: 18\n",
      "After the PCA, the feature number is: 19\n",
      "After the PCA, the feature number is: 20\n",
      "After the PCA, the feature number is: 21\n",
      "After the PCA, the feature number is: 22\n",
      "After the PCA, the feature number is: 23\n",
      "After the PCA, the feature number is: 24\n",
      "After the PCA, the feature number is: 25\n",
      "After the PCA, the feature number is: 26\n",
      "After the PCA, the feature number is: 27\n",
      "After the PCA, the feature number is: 28\n",
      "After the PCA, the feature number is: 29\n",
      "After the PCA, the feature number is: 30\n",
      "After the PCA, the feature number is: 31\n",
      "After the PCA, the feature number is: 32\n",
      "After the PCA, the feature number is: 33\n",
      "After the PCA, the feature number is: 34\n",
      "After the PCA, the feature number is: 35\n",
      "After the PCA, the feature number is: 36\n",
      "After the PCA, the feature number is: 37\n",
      "After the PCA, the feature number is: 38\n",
      "After the PCA, the feature number is: 39\n",
      "After the PCA, the feature number is: 40\n",
      "After the PCA, the feature number is: 41\n",
      "After the PCA, the feature number is: 42\n",
      "After the PCA, the feature number is: 43\n",
      "After the PCA, the feature number is: 44\n",
      "After the PCA, the feature number is: 45\n",
      "After the PCA, the feature number is: 46\n",
      "After the PCA, the feature number is: 47\n",
      "After the PCA, the feature number is: 48\n",
      "After the PCA, the feature number is: 49\n",
      "After the PCA, the feature number is: 50\n",
      "After the PCA, the feature number is: 51\n",
      "After the PCA, the feature number is: 52\n",
      "After the PCA, the feature number is: 53\n",
      "After the PCA, the feature number is: 54\n",
      "After the PCA, the feature number is: 55\n",
      "After the PCA, the feature number is: 56\n",
      "After the PCA, the feature number is: 57\n",
      "After the PCA, the feature number is: 58\n",
      "After the PCA, the feature number is: 59\n",
      "After the PCA, the feature number is: 60\n",
      "After the PCA, the feature number is: 61\n",
      "After the PCA, the feature number is: 62\n",
      "After the PCA, the feature number is: 63\n",
      "After the PCA, the feature number is: 64\n",
      "After the PCA, the feature number is: 65\n",
      "After the PCA, the feature number is: 66\n",
      "After the PCA, the feature number is: 67\n",
      "After the PCA, the feature number is: 68\n",
      "After the PCA, the feature number is: 69\n",
      "After the PCA, the feature number is: 70\n",
      "After the PCA, the feature number is: 71\n",
      "After the PCA, the feature number is: 72\n",
      "After the PCA, the feature number is: 73\n",
      "After the PCA, the feature number is: 74\n",
      "After the PCA, the feature number is: 75\n",
      "After the PCA, the feature number is: 76\n",
      "After the PCA, the feature number is: 77\n",
      "After the PCA, the feature number is: 78\n",
      "After the PCA, the feature number is: 79\n",
      "After the PCA, the feature number is: 80\n",
      "After the PCA, the feature number is: 81\n",
      "After the PCA, the feature number is: 82\n",
      "After the PCA, the feature number is: 83\n",
      "After the PCA, the feature number is: 84\n",
      "After the PCA, the feature number is: 85\n",
      "After the PCA, the feature number is: 86\n",
      "After the PCA, the feature number is: 87\n",
      "After the PCA, the feature number is: 88\n",
      "After the PCA, the feature number is: 89\n",
      "After the PCA, the feature number is: 90\n",
      "After the PCA, the feature number is: 91\n",
      "After the PCA, the feature number is: 92\n",
      "After the PCA, the feature number is: 93\n",
      "After the PCA, the feature number is: 94\n",
      "After the PCA, the feature number is: 95\n",
      "After the PCA, the feature number is: 96\n",
      "After the PCA, the feature number is: 97\n",
      "After the PCA, the feature number is: 98\n",
      "After the PCA, the feature number is: 99\n",
      "After the PCA, the feature number is: 100\n",
      "After the PCA, the feature number is: 101\n",
      "After the PCA, the feature number is: 102\n",
      "After the PCA, the feature number is: 103\n",
      "After the PCA, the feature number is: 104\n",
      "After the PCA, the feature number is: 105\n",
      "After the PCA, the feature number is: 106\n",
      "After the PCA, the feature number is: 107\n",
      "After the PCA, the feature number is: 108\n",
      "After the PCA, the feature number is: 109\n",
      "After the PCA, the feature number is: 110\n",
      "After the PCA, the feature number is: 111\n",
      "After the PCA, the feature number is: 112\n",
      "After the PCA, the feature number is: 113\n",
      "After the PCA, the feature number is: 114\n",
      "After the PCA, the feature number is: 115\n",
      "After the PCA, the feature number is: 116\n",
      "After the PCA, the feature number is: 117\n",
      "After the PCA, the feature number is: 118\n",
      "After the PCA, the feature number is: 119\n",
      "After the PCA, the feature number is: 120\n",
      "After the PCA, the feature number is: 121\n",
      "After the PCA, the feature number is: 122\n",
      "After the PCA, the feature number is: 123\n",
      "After the PCA, the feature number is: 124\n",
      "After the PCA, the feature number is: 125\n",
      "After the PCA, the feature number is: 126\n",
      "After the PCA, the feature number is: 127\n",
      "After the PCA, the feature number is: 128\n",
      "After the PCA, the feature number is: 129\n",
      "After the PCA, the feature number is: 130\n",
      "After the PCA, the feature number is: 131\n",
      "After the PCA, the feature number is: 132\n",
      "After the PCA, the feature number is: 133\n",
      "After the PCA, the feature number is: 134\n",
      "After the PCA, the feature number is: 135\n",
      "After the PCA, the feature number is: 136\n",
      "After the PCA, the feature number is: 137\n",
      "After the PCA, the feature number is: 138\n",
      "After the PCA, the feature number is: 139\n",
      "After the PCA, the feature number is: 140\n",
      "After the PCA, the feature number is: 141\n",
      "After the PCA, the feature number is: 142\n",
      "After the PCA, the feature number is: 143\n",
      "After the PCA, the feature number is: 144\n",
      "After the PCA, the feature number is: 145\n",
      "After the PCA, the feature number is: 146\n",
      "After the PCA, the feature number is: 147\n",
      "After the PCA, the feature number is: 148\n",
      "After the PCA, the feature number is: 149\n",
      "After the PCA, the feature number is: 150\n",
      "After the PCA, the feature number is: 151\n",
      "After the PCA, the feature number is: 152\n",
      "After the PCA, the feature number is: 153\n",
      "After the PCA, the feature number is: 154\n",
      "After the PCA, the feature number is: 155\n",
      "After the PCA, the feature number is: 156\n",
      "After the PCA, the feature number is: 157\n",
      "After the PCA, the feature number is: 158\n",
      "After the PCA, the feature number is: 159\n",
      "After the PCA, the feature number is: 160\n",
      "After the PCA, the feature number is: 161\n",
      "After the PCA, the feature number is: 162\n",
      "After the PCA, the feature number is: 163\n",
      "After the PCA, the feature number is: 164\n",
      "After the PCA, the feature number is: 165\n",
      "After the PCA, the feature number is: 166\n",
      "After the PCA, the feature number is: 167\n",
      "After the PCA, the feature number is: 168\n",
      "After the PCA, the feature number is: 169\n",
      "After the PCA, the feature number is: 170\n",
      "After the PCA, the feature number is: 171\n",
      "After the PCA, the feature number is: 172\n",
      "After the PCA, the feature number is: 173\n",
      "After the PCA, the feature number is: 174\n",
      "After the PCA, the feature number is: 175\n",
      "After the PCA, the feature number is: 176\n",
      "After the PCA, the feature number is: 177\n",
      "After the PCA, the feature number is: 178\n",
      "After the PCA, the feature number is: 179\n",
      "After the PCA, the feature number is: 180\n",
      "After the PCA, the feature number is: 181\n",
      "After the PCA, the feature number is: 182\n",
      "After the PCA, the feature number is: 183\n",
      "After the PCA, the feature number is: 184\n",
      "After the PCA, the feature number is: 185\n",
      "After the PCA, the feature number is: 186\n",
      "After the PCA, the feature number is: 187\n",
      "After the PCA, the feature number is: 188\n",
      "After the PCA, the feature number is: 189\n",
      "After the PCA, the feature number is: 190\n",
      "After the PCA, the feature number is: 191\n",
      "After the PCA, the feature number is: 192\n",
      "After the PCA, the feature number is: 193\n",
      "After the PCA, the feature number is: 194\n",
      "After the PCA, the feature number is: 195\n",
      "After the PCA, the feature number is: 196\n",
      "After the PCA, the feature number is: 197\n",
      "After the PCA, the feature number is: 198\n",
      "After the PCA, the feature number is: 199\n",
      "After the PCA, the feature number is: 200\n",
      "After the PCA, the feature number is: 201\n",
      "After the PCA, the feature number is: 202\n",
      "After the PCA, the feature number is: 203\n",
      "After the PCA, the feature number is: 204\n",
      "After the PCA, the feature number is: 205\n",
      "After the PCA, the feature number is: 206\n",
      "After the PCA, the feature number is: 207\n",
      "After the PCA, the feature number is: 208\n",
      "After the PCA, the feature number is: 209\n",
      "After the PCA, the feature number is: 210\n",
      "After the PCA, the feature number is: 211\n",
      "After the PCA, the feature number is: 212\n",
      "After the PCA, the feature number is: 213\n",
      "After the PCA, the feature number is: 214\n",
      "After the PCA, the feature number is: 215\n",
      "After the PCA, the feature number is: 216\n",
      "After the PCA, the feature number is: 217\n",
      "After the PCA, the feature number is: 218\n",
      "After the PCA, the feature number is: 219\n",
      "After the PCA, the feature number is: 220\n",
      "After the PCA, the feature number is: 221\n",
      "After the PCA, the feature number is: 222\n",
      "After the PCA, the feature number is: 223\n",
      "After the PCA, the feature number is: 224\n",
      "After the PCA, the feature number is: 225\n",
      "After the PCA, the feature number is: 226\n",
      "After the PCA, the feature number is: 227\n",
      "After the PCA, the feature number is: 228\n",
      "After the PCA, the feature number is: 229\n",
      "After the PCA, the feature number is: 230\n",
      "After the PCA, the feature number is: 231\n",
      "After the PCA, the feature number is: 232\n",
      "After the PCA, the feature number is: 233\n",
      "After the PCA, the feature number is: 234\n",
      "After the PCA, the feature number is: 235\n",
      "After the PCA, the feature number is: 236\n",
      "After the PCA, the feature number is: 237\n",
      "After the PCA, the feature number is: 238\n",
      "After the PCA, the feature number is: 239\n",
      "After the PCA, the feature number is: 240\n",
      "After the PCA, the feature number is: 241\n",
      "After the PCA, the feature number is: 242\n",
      "After the PCA, the feature number is: 243\n",
      "After the PCA, the feature number is: 244\n",
      "After the PCA, the feature number is: 245\n",
      "After the PCA, the feature number is: 246\n",
      "After the PCA, the feature number is: 247\n",
      "After the PCA, the feature number is: 248\n",
      "After the PCA, the feature number is: 249\n",
      "After the PCA, the feature number is: 250\n",
      "After the PCA, the feature number is: 251\n",
      "After the PCA, the feature number is: 252\n",
      "After the PCA, the feature number is: 253\n",
      "After the PCA, the feature number is: 254\n",
      "After the PCA, the feature number is: 255\n",
      "After the PCA, the feature number is: 256\n"
     ]
    }
   ],
   "source": [
    "x_shape=[]\t\t#按照保存特征比例进行 PCA 降维之后，数据的维度保存在这个列表中\n",
    "scores = []\t\t#每次降维后的数据的评分保存在这里面\n",
    "\n",
    "#feature_number = np.linspace(start=1, stop=image_his.shape[1], num=30, dtype=int)\n",
    "#print(feature_number)\n",
    "\n",
    "for number in range(1, image_his.shape[1] + 1):\n",
    "    print(f\"After the PCA, the feature number is: {number}\")\n",
    "    pca = PCA(n_components=number, copy=True)\n",
    "    images_pca = pca.fit_transform(image_his)\n",
    "\n",
    "    x_train, x_test, y_train, y_test = train_test_split(images_pca, proba, test_size=0.25, stratify=proba, random_state=42)\n",
    "\n",
    "    svc_classifier = SVC(C=100, kernel=\"rbf\").fit(x_train, y_train.astype(\"str\"))\n",
    "\n",
    "    score = svc_classifier.score(x_test, y_test.astype(\"str\"))\n",
    "\n",
    "    x_shape.append(images_pca.shape[1])\n",
    "\n",
    "    scores.append(score)"
   ],
   "metadata": {
    "collapsed": false,
    "ExecuteTime": {
     "end_time": "2023-11-08T20:27:51.596004900Z",
     "start_time": "2023-11-08T20:24:47.149881900Z"
    }
   },
   "id": "4825860af6c4ae97"
  },
  {
   "cell_type": "code",
   "execution_count": 30,
   "outputs": [
    {
     "data": {
      "text/plain": "<Figure size 640x480 with 1 Axes>",
      "image/png": "[encoded data removed]"
     },
     "metadata": {},
     "output_type": "display_data"
    },
    {
     "name": "stdout",
     "output_type": "stream",
     "text": [
      "The max score is: 0.6905487804878049\n",
      "When the feature number is: 4, we can get the max score\n"
     ]
    }
   ],
   "source": [
    "plt.plot(x_shape, scores)\n",
    "plt.xlabel('number of features')\n",
    "plt.ylabel('accuracy')\n",
    "x_major_locator = plt.MultipleLocator(30)\n",
    "ax=plt.gca()\n",
    "ax.xaxis.set_major_locator(x_major_locator)\n",
    "plt.xlim(0, 256)\n",
    "plt.show()\n",
    "max_scores = max(scores)\n",
    "print(f\"The max score is: {max(scores)}\")\n",
    "index = scores.index(max_scores)\n",
    "feature_number = x_shape[index]\n",
    "print(f\"When the feature number is: {feature_number}, we can get the max score\")"
   ],
   "metadata": {
    "collapsed": false,
    "ExecuteTime": {
     "end_time": "2023-11-08T20:27:57.875557Z",
     "start_time": "2023-11-08T20:27:57.745953200Z"
    }
   },
   "id": "18ad098d1aa89495"
  },
  {
   "cell_type": "code",
   "execution_count": null,
   "outputs": [],
   "source": [
    "pipeline = Pipeline([\n",
    "    ('pca', PCA()),\n",
    "    ('svm', SVC())\n",
    "])\n",
    "\n",
    "param_grid = [{\n",
    "    'pca__n_components': range(1, image_his.shape[1] + 1),\n",
    "    'svm__C': [0.01, 0.1, 1, 10, 100, 1000],\n",
    "    'svm__kernel': ['linear']\n",
    "},\n",
    "{\n",
    "    'pca__n_components': range(1, image_his.shape[1] + 1),\n",
    "    'svm__C': [0.01, 0.1, 1, 10, 100, 1000],\n",
    "    'svm__gamma': [0.0001, 0.001, 0.01, 0.1, 1, 10],\n",
    "    'svm__kernel': ['linear']\n",
    "}]\n",
    "\n",
    "grid_search = GridSearchCV(pipeline, param_grid, cv=5, scoring='accuracy')\n",
    "grid_search.fit(x_train, y_train.astype(\"str\"))"
   ],
   "metadata": {
    "collapsed": false,
    "is_executing": true,
    "ExecuteTime": {
     "start_time": "2023-11-08T20:46:31.436884700Z"
    }
   },
   "id": "1d49e68c5b9f259"
  },
  {
   "cell_type": "code",
   "execution_count": null,
   "outputs": [],
   "source": [
    "best_n_components = grid_search.best_estimator_.named_steps['pca'].n_components\n",
    "best_score = grid_search.best_score_\n",
    "print(f\"Best number of PCA components is: {best_n_components}\")\n",
    "print(f\"Best cross-validation accuracy is: {best_score}\")\n",
    "\n",
    "best_model = grid_search.best_estimator_\n",
    "predict_labels = best_model.predict(x_test)\n",
    "\n",
    "print(metrics.classification_report(y_test.astype(\"str\"), predict_labels))"
   ],
   "metadata": {
    "collapsed": false
   },
   "id": "98b28239af8f55ac"
  },
  {
   "cell_type": "markdown",
   "id": "b5a91b4d",
   "metadata": {
    "ExecuteTime": {
     "start_time": "2023-11-05T03:59:37.701515200Z"
    }
   },
   "source": [
    "# Test"
   ]
  },
  {
   "cell_type": "code",
   "execution_count": 300,
   "id": "b86102b4",
   "metadata": {},
   "outputs": [],
   "source": [
    "from sklearn.metrics import confusion_matrix\n",
    "import pandas as pd"
   ]
  },
  {
   "cell_type": "markdown",
   "id": "9ec5a245",
   "metadata": {},
   "source": [
    "### 1. Calculate the confusion matrix for all test images"
   ]
  },
  {
   "cell_type": "code",
   "execution_count": 301,
   "id": "e18d44bd",
   "metadata": {},
   "outputs": [
    {
     "name": "stdout",
     "output_type": "stream",
     "text": [
      "Confusion Matrix (All Test Images):\n",
      "\t0.0\t0.3333\t0.6666\t1.0\n",
      "0.0\t339\t5\t4\t29\t\n",
      "0.3333\t61\t1\t0\t12\t\n",
      "0.6666\t25\t0\t0\t1\t\n",
      "1.0\t99\t1\t2\t77\t\n",
      "\n",
      "Class 0.0:\n",
      "Precision: 0.62\n",
      "Recall: 0.36\n",
      "F1 Score: 0.45\n",
      "\n",
      "Class 0.3333:\n",
      "Precision: 0.62\n",
      "Recall: 0.36\n",
      "F1 Score: 0.45\n",
      "\n",
      "Class 0.6666:\n",
      "Precision: 0.62\n",
      "Recall: 0.36\n",
      "F1 Score: 0.45\n",
      "\n",
      "Class 1.0:\n",
      "Precision: 0.62\n",
      "Recall: 0.36\n",
      "F1 Score: 0.45\n"
     ]
    }
   ],
   "source": [
    "# Calculate the confusion matrix for all test images\n",
    "confusion_all = confusion_matrix(y_test.astype(\"str\"), predict_labels)\n",
    "# print(confusion_all)\n",
    "confusion_all = np.array(confusion_all)\n",
    "\n",
    "# Class label\n",
    "class_labels = [\"0.0\", \"0.3333\", \"0.6666\", \"1.0\"]\n",
    "\n",
    "# Print confusion matrix\n",
    "print(\"Confusion Matrix (All Test Images):\")\n",
    "print(\"\\t\" + \"\\t\".join(class_labels))\n",
    "for i in range(len(class_labels)):\n",
    "    print(class_labels[i] + \"\\t\", end=\"\")\n",
    "    for j in range(len(class_labels)):\n",
    "        print(confusion_all[i][j], end=\"\\t\")\n",
    "    print()\n",
    "\n",
    "# Calculate accuracy, recall and F1 scores\n",
    "for i in range(len(class_labels)):\n",
    "    tp = confusion_all[i][i]\n",
    "    fp = sum(confusion_all[j][i] for j in range(len(class_labels)) if j != i)\n",
    "    fn = sum(confusion_all[i][j] for j in range(len(class_labels)) if j != i)\n",
    "    if precision + recall == 0:\n",
    "        f1 = 0\n",
    "    else:\n",
    "        f1 = 2 * (precision * recall) / (precision + recall)\n",
    "    print(f\"\\nClass {class_labels[i]}:\")\n",
    "    print(f\"Precision: {precision:.2f}\")\n",
    "    print(f\"Recall: {recall:.2f}\")\n",
    "    print(f\"F1 Score: {f1:.2f}\")\n"
   ]
  },
  {
   "cell_type": "markdown",
   "id": "01bbc95f",
   "metadata": {},
   "source": [
    "### 2.Calculate the confusion matrix for monocrystalline"
   ]
  },
  {
   "cell_type": "code",
   "execution_count": 302,
   "id": "bbbe3a9d",
   "metadata": {},
   "outputs": [
    {
     "name": "stdout",
     "output_type": "stream",
     "text": [
      "y_test size: (656,)\n",
      "predict_labels size: (656,)\n"
     ]
    }
   ],
   "source": [
    "print(\"y_test size:\", y_test.shape)\n",
    "print(\"predict_labels size:\", predict_labels.shape)"
   ]
  },
  {
   "cell_type": "code",
   "execution_count": 303,
   "id": "7a4026f9",
   "metadata": {},
   "outputs": [
    {
     "name": "stdout",
     "output_type": "stream",
     "text": [
      "Monocrystalline Indices Range: 0 to 2443\n"
     ]
    }
   ],
   "source": [
    "# monocrystalline_indices range of index values\n",
    "y_test = y_test.astype(\"str\")\n",
    "monocrystalline_indices = np.where(types == 'mono')\n",
    "print(\"Monocrystalline Indices Range:\", min(monocrystalline_indices[0]), \"to\", max(monocrystalline_indices[0]))"
   ]
  },
  {
   "cell_type": "code",
   "execution_count": 304,
   "id": "92475c5a",
   "metadata": {},
   "outputs": [
    {
     "name": "stdout",
     "output_type": "stream",
     "text": [
      "['mono' 'poly']\n"
     ]
    }
   ],
   "source": [
    "# Prints the unique value of the types array\n",
    "unique_types = np.unique(types)\n",
    "print(unique_types)\n"
   ]
  },
  {
   "cell_type": "code",
   "execution_count": 305,
   "id": "5a247ed0",
   "metadata": {},
   "outputs": [],
   "source": [
    "# calculate monocrystalline_indices\n",
    "monocrystalline_indices = np.where(types == 'mono')[0]  # Extract the index array with [0]\n",
    "\n",
    "# Create a y_test_mono array that contains only the real labels for images of type \"monocrystalline\"\n",
    "y_test_mono = y_test[monocrystalline_indices[monocrystalline_indices < len(y_test)]]\n",
    "\n",
    "# Creates the predict_labels_mono array that contains only prediction labels for images of type \"monocrystalline\"\n",
    "predict_labels_mono = predict_labels[monocrystalline_indices[monocrystalline_indices < len(y_test)]]\n"
   ]
  },
  {
   "cell_type": "code",
   "execution_count": 306,
   "id": "7e71d368",
   "metadata": {},
   "outputs": [
    {
     "name": "stdout",
     "output_type": "stream",
     "text": [
      "Indices with mismatched labels: [0]\n"
     ]
    },
    {
     "name": "stderr",
     "output_type": "stream",
     "text": [
      "/var/folders/2f/yj4193f95b58g8d0ymcxp11w0000gn/T/ipykernel_1719/3185375691.py:2: FutureWarning: elementwise comparison failed; returning scalar instead, but in the future will perform elementwise comparison\n",
      "  mismatched_indices = np.where(types != y_test)[0]\n"
     ]
    }
   ],
   "source": [
    "# Check that the sample in the types array matches the label in the corresponding position in y_test\n",
    "mismatched_indices = np.where(types != y_test)[0]\n",
    "print(\"Indices with mismatched labels:\", mismatched_indices)\n"
   ]
  },
  {
   "cell_type": "code",
   "execution_count": 307,
   "id": "83a00ee3",
   "metadata": {},
   "outputs": [
    {
     "name": "stdout",
     "output_type": "stream",
     "text": [
      "Sample at index 0 - 'types' label: mono, 'y_test' label: 0.6666666666666666\n"
     ]
    }
   ],
   "source": [
    "print(f\"Sample at index 0 - 'types' label: {types[0]}, 'y_test' label: {y_test[0]}\")"
   ]
  },
  {
   "cell_type": "code",
   "execution_count": 308,
   "id": "a0d2b073",
   "metadata": {},
   "outputs": [
    {
     "name": "stdout",
     "output_type": "stream",
     "text": [
      "Confusion Matrix (mono):\n",
      "                    0.0  0.3333333333333333  0.6666666666666666  1.0\n",
      "0.0                 118                   3                   0   11\n",
      "0.3333333333333333   26                   0                   0    3\n",
      "0.6666666666666666   11                   0                   0    1\n",
      "1.0                  41                   1                   1   24\n",
      "\n",
      "Class 0.0:\n",
      "Precision: 0.60\n",
      "Recall: 0.89\n",
      "F1 Score: 0.72\n",
      "\n",
      "Class 0.3333333333333333:\n",
      "Precision: 0.00\n",
      "Recall: 0.00\n",
      "F1 Score: 0.00\n",
      "\n",
      "Class 0.6666666666666666:\n",
      "Precision: 0.00\n",
      "Recall: 0.00\n",
      "F1 Score: 0.00\n",
      "\n",
      "Class 1.0:\n",
      "Precision: 0.62\n",
      "Recall: 0.36\n",
      "F1 Score: 0.45\n"
     ]
    }
   ],
   "source": [
    "# Computational confusion matrix\n",
    "confusion_matrix = confusion_matrix(y_test_mono, predict_labels_mono)\n",
    "\n",
    "# Creates row and column labels for the confusion matrix\n",
    "class_labels = ['0.0', '0.3333333333333333', '0.6666666666666666', '1.0']\n",
    "\n",
    "# Create a data box with an explained confusion matrix\n",
    "confusion_mono = pd.DataFrame(confusion_matrix, index=class_labels, columns=class_labels)\n",
    "\n",
    "print(\"Confusion Matrix (mono):\")\n",
    "print(confusion_mono)\n",
    "\n",
    "# Calculate accuracy, recall and F1 scores\n",
    "for i in range(len(class_labels)):\n",
    "    tp = confusion_matrix[i][i]\n",
    "    fp = sum(confusion_matrix[j][i] for j in range(len(class_labels)) if j != i)\n",
    "    fn = sum(confusion_matrix[i][j] for j in range(len(class_labels)) if j != i)\n",
    "    precision = tp / (tp + fp)\n",
    "    recall = tp / (tp + fn)\n",
    "    if precision + recall == 0:\n",
    "        f1 = 0\n",
    "    else:\n",
    "        f1 = 2 * (precision * recall) / (precision + recall)\n",
    "    \n",
    "    print(f\"\\nClass {class_labels[i]}:\")\n",
    "    print(f\"Precision: {precision:.2f}\")\n",
    "    print(f\"Recall: {recall:.2f}\")\n",
    "    print(f\"F1 Score: {f1:.2f}\")\n"
   ]
  },
  {
   "cell_type": "markdown",
   "id": "b5862191",
   "metadata": {},
   "source": [
    "### 3.Calculate the confusion matrix for polycrystalline"
   ]
  },
  {
   "cell_type": "code",
   "execution_count": 323,
   "id": "39434f9a",
   "metadata": {},
   "outputs": [],
   "source": [
    "from sklearn.metrics import confusion_matrix"
   ]
  },
  {
   "cell_type": "code",
   "execution_count": 324,
   "id": "334b84f4",
   "metadata": {},
   "outputs": [
    {
     "name": "stdout",
     "output_type": "stream",
     "text": [
      "The types array contains labels of type 'poly'\n"
     ]
    }
   ],
   "source": [
    "# Check that the types array contains labels of type 'poly'\n",
    "contains_poly = 'poly' in types\n",
    "\n",
    "if contains_poly:\n",
    "    print(\"The types array contains labels of type 'poly'\")\n",
    "else:\n",
    "    print(\"The types array does not contain labels of type 'poly'\")"
   ]
  },
  {
   "cell_type": "code",
   "execution_count": 326,
   "id": "14c3f246",
   "metadata": {},
   "outputs": [
    {
     "name": "stdout",
     "output_type": "stream",
     "text": [
      "y_test size: (656,)\n",
      "predict_labels size: (656,)\n"
     ]
    }
   ],
   "source": [
    "print(\"y_test size:\", y_test.shape)\n",
    "\n",
    "# predict_labels size\n",
    "predict_labels = svm_classifier.predict(his_test)\n",
    "print(\"predict_labels size:\", predict_labels.shape)"
   ]
  },
  {
   "cell_type": "code",
   "execution_count": 327,
   "id": "e67b5941",
   "metadata": {},
   "outputs": [
    {
     "name": "stdout",
     "output_type": "stream",
     "text": [
      "[  60   61   62 ... 2621 2622 2623]\n"
     ]
    }
   ],
   "source": [
    "polycrystalline_indices = np.where(types == 'poly')[0]\n",
    "print(polycrystalline_indices)"
   ]
  },
  {
   "cell_type": "code",
   "execution_count": 328,
   "id": "7aaf2d08",
   "metadata": {},
   "outputs": [
    {
     "name": "stdout",
     "output_type": "stream",
     "text": [
      "Confusion Matrix (poly):\n",
      "                    0.0  0.3333333333333333  0.6666666666666666  1.0\n",
      "0.0                 221                   2                   4   18\n",
      "0.3333333333333333   35                   1                   0    9\n",
      "0.6666666666666666   14                   0                   0    0\n",
      "1.0                  58                   0                   1   53\n",
      "\n",
      "Class 0.0:\n",
      "Precision: 0.67\n",
      "Recall: 0.90\n",
      "F1 Score: 0.77\n",
      "\n",
      "Class 0.3333333333333333:\n",
      "Precision: 0.33\n",
      "Recall: 0.02\n",
      "F1 Score: 0.04\n",
      "\n",
      "Class 0.6666666666666666:\n",
      "Precision: 0.00\n",
      "Recall: 0.00\n",
      "F1 Score: 0.00\n",
      "\n",
      "Class 1.0:\n",
      "Precision: 0.66\n",
      "Recall: 0.47\n",
      "F1 Score: 0.55\n"
     ]
    }
   ],
   "source": [
    "y_test_poly = y_test[polycrystalline_indices[polycrystalline_indices < len(y_test)]]\n",
    "predict_labels_poly = predict_labels[polycrystalline_indices[polycrystalline_indices < len(y_test)]]\n",
    "\n",
    "# The confusion matrix of polycrystalline hybrid samples is calculated\n",
    "confusion_poly = confusion_matrix(y_test_poly, predict_labels_poly)\n",
    "\n",
    "# Creates row and column labels for the confusion matrix\n",
    "class_labels = ['0.0', '0.3333333333333333', '0.6666666666666666', '1.0']\n",
    "\n",
    "# Create a data box to display the confusion matrix\n",
    "confusion_poly_df = pd.DataFrame(confusion_poly, index=class_labels, columns=class_labels)\n",
    "\n",
    "# Print confusion matrix\n",
    "print(\"Confusion Matrix (poly):\")\n",
    "print(confusion_poly_df)\n",
    "\n",
    "\n",
    "# Calculate and output the Precision, Recall, and F1 Score for each category\n",
    "for i in range(len(class_labels)):\n",
    "    tp = confusion_poly[i][i]\n",
    "    fp = sum(confusion_poly[j][i] for j in range(len(class_labels)) if j != i)\n",
    "    fn = sum(confusion_poly[i][j] for j in range(len(class_labels)) if j != i)\n",
    "    precision = tp / (tp + fp)\n",
    "    recall = tp / (tp + fn)\n",
    "    if precision + recall == 0:\n",
    "        f1 = 0\n",
    "    else:\n",
    "        f1 = 2 * (precision * recall) / (precision + recall)\n",
    "    \n",
    "    print(f\"\\nClass {class_labels[i]}:\")\n",
    "    print(f\"Precision: {precision:.2f}\")\n",
    "    print(f\"Recall: {recall:.2f}\")\n",
    "    print(f\"F1 Score: {f1:.2f}\")\n"
   ]
  },
  {
   "cell_type": "code",
   "execution_count": null,
   "id": "e93848da",
   "metadata": {},
   "outputs": [],
   "source": []
  },
  {
   "cell_type": "code",
   "execution_count": null,
   "id": "d64c73b0",
   "metadata": {},
   "outputs": [],
   "source": []
  },
  {
   "cell_type": "code",
   "execution_count": null,
   "id": "b9de648d",
   "metadata": {},
   "outputs": [],
   "source": []
  }
 ],
 "metadata": {
  "kernelspec": {
   "display_name": "Python 3 (ipykernel)",
   "language": "python",
   "name": "python3"
  },
  "language_info": {
   "codemirror_mode": {
    "name": "ipython",
    "version": 3
   },
   "file_extension": ".py",
   "mimetype": "text/x-python",
   "name": "python",
   "nbconvert_exporter": "python",
   "pygments_lexer": "ipython3",
   "version": "3.8.18"
  }
 },
 "nbformat": 4,
 "nbformat_minor": 5
}
