{
 "cells": [
  {
   "cell_type": "code",
   "execution_count": 14,
   "id": "798894ac8773ff6d",
   "metadata": {
    "ExecuteTime": {
     "end_time": "2023-11-15T15:35:29.659971100Z",
     "start_time": "2023-11-15T15:35:27.744575900Z"
    }
   },
   "outputs": [],
   "source": [
    "import cv2\n",
    "import numpy as np\n",
    "from sklearn.model_selection import train_test_split, GridSearchCV\n",
    "from sklearn.preprocessing import MinMaxScaler\n",
    "from sklearn.decomposition import PCA\n",
    "from sklearn.pipeline import Pipeline\n",
    "from sklearn import metrics\n",
    "from sklearn.svm import SVC\n",
    "from imblearn.combine import SMOTETomek\n",
    "from collections import Counter\n",
    "import joblib\n",
    "import matplotlib.pyplot as plt\n",
    "from utils.elpv_reader import load_dataset\n",
    "from sklearn.metrics import confusion_matrix\n",
    "import pandas as pd\n",
    "import warnings\n",
    "warnings.filterwarnings('ignore', category=metrics._classification.UndefinedMetricWarning)"
   ]
  },
  {
   "cell_type": "code",
   "execution_count": 2,
   "outputs": [],
   "source": [
    "def proportion_compute(label_set):\n",
    "    label1, label2, label3, label4 = 0, 0, 0, 0\n",
    "    for i in range(len(label_set)):\n",
    "        if label_set[i] == 0:\n",
    "            label1 += 1\n",
    "        elif label_set[i] == 1:\n",
    "            label2 += 1\n",
    "        elif label_set[i] == 2:\n",
    "            label3 += 1\n",
    "        else:\n",
    "            label4 += 1\n",
    "    print(\"The percentage of the label 0 in the train set is: {:.2%}\".format(label1 / len(label_set)))\n",
    "    print(\"The percentage of the label 1 in the train set is: {:.2%}\".format(label2 / len(label_set)))\n",
    "    print(\"The percentage of the label 2 in the train set is: {:.2%}\".format(label3 / len(label_set)))\n",
    "    print(\"The percentage of the label 3 in the train set is: {:.2%}\".format(label4 / len(label_set)))"
   ],
   "metadata": {
    "collapsed": false,
    "ExecuteTime": {
     "end_time": "2023-11-15T14:49:54.296472100Z",
     "start_time": "2023-11-15T14:49:54.269738400Z"
    }
   },
   "id": "23479038320e3231"
  },
  {
   "cell_type": "markdown",
   "id": "8dbe4032d90cd92a",
   "metadata": {},
   "source": [
    "### Step1:  Load the dataset"
   ]
  },
  {
   "cell_type": "code",
   "execution_count": 3,
   "id": "a3279c3c3e82b855",
   "metadata": {
    "ExecuteTime": {
     "end_time": "2023-11-15T14:50:00.898075800Z",
     "start_time": "2023-11-15T14:49:55.879487600Z"
    }
   },
   "outputs": [
    {
     "name": "stdout",
     "output_type": "stream",
     "text": [
      "The size of the data set is: 2624\n",
      "The size of the image is: 300 * 300\n",
      "[1. 1. 1. ... 0. 0. 0.]\n",
      "['mono' 'mono' 'mono' ... 'poly' 'poly' 'poly']\n"
     ]
    }
   ],
   "source": [
    "# Respectively: image, reflection probability, type. Our classifier needs to classify based on reflection probability\n",
    "images, proba, types = load_dataset()\n",
    "print(f\"The size of the data set is: {images.shape[0]}\")\n",
    "print(f\"The size of the image is: {images.shape[1]} * {images.shape[2]}\")\n",
    "print(proba)\n",
    "print(types)"
   ]
  },
  {
   "cell_type": "code",
   "execution_count": 4,
   "outputs": [
    {
     "name": "stdout",
     "output_type": "stream",
     "text": [
      "[3. 3. 3. ... 0. 0. 0.]\n"
     ]
    }
   ],
   "source": [
    "# change label, label will be 0 1 2 3\n",
    "label_mapping = {0.0: 0, 0.3333333333333333: 1, 0.6666666666666666: 2, 1.0: 3}\n",
    "for x in range(len(proba)):\n",
    "    if proba[x] in label_mapping:\n",
    "        proba[x] = label_mapping[proba[x]]\n",
    "print(proba)"
   ],
   "metadata": {
    "collapsed": false,
    "ExecuteTime": {
     "end_time": "2023-11-15T14:50:02.166224100Z",
     "start_time": "2023-11-15T14:50:02.143241300Z"
    }
   },
   "id": "c10ee34fed54b33a"
  },
  {
   "cell_type": "markdown",
   "id": "2c8a2bdb22cbe313",
   "metadata": {},
   "source": [
    "### Step2: Feature extraction"
   ]
  },
  {
   "cell_type": "code",
   "execution_count": 5,
   "id": "5a64daf40d020ea4",
   "metadata": {
    "ExecuteTime": {
     "end_time": "2023-11-15T14:50:03.777863400Z",
     "start_time": "2023-11-15T14:50:03.472085900Z"
    }
   },
   "outputs": [
    {
     "name": "stdout",
     "output_type": "stream",
     "text": [
      "(2624, 256)\n"
     ]
    },
    {
     "data": {
      "text/plain": "<Figure size 640x480 with 1 Axes>",
      "image/png": "[encoded data removed]"
     },
     "metadata": {},
     "output_type": "display_data"
    }
   ],
   "source": [
    "# Convert each image to the pixel histogram\n",
    "image_his = []\n",
    "for image in images:\n",
    "    hist = cv2.calcHist([image], [0], None, [256], [0.0, 256.0])\n",
    "    image_his.append(hist.flatten())\n",
    "    \n",
    "image_his = np.array(image_his)\n",
    "print(image_his.shape)\n",
    "plt.plot(image_his[0])\n",
    "plt.show()"
   ]
  },
  {
   "cell_type": "markdown",
   "id": "7419097127059e99",
   "metadata": {},
   "source": [
    "### Step3: Split the dataset into train set and test set"
   ]
  },
  {
   "cell_type": "code",
   "execution_count": 23,
   "id": "903831c3d0d0623c",
   "metadata": {
    "ExecuteTime": {
     "end_time": "2023-11-15T16:00:12.333957800Z",
     "start_time": "2023-11-15T16:00:12.290958700Z"
    }
   },
   "outputs": [
    {
     "name": "stdout",
     "output_type": "stream",
     "text": [
      "Original train set shape Counter({0.0: 1131, 3.0: 536, 1.0: 221, 2.0: 80})\n",
      "The percentage of the label 0 in the train set is: 57.47%\n",
      "The percentage of the label 1 in the train set is: 11.23%\n",
      "The percentage of the label 2 in the train set is: 4.07%\n",
      "The percentage of the label 3 in the train set is: 27.24%\n"
     ]
    }
   ],
   "source": [
    "x_train, x_test, y_train, y_test = train_test_split(image_his, proba, test_size=0.25, stratify=proba, random_state=42)\n",
    "# statistics of the proportion of each label in the training set\n",
    "print(\"Original train set shape %s\" %Counter(y_train))\n",
    "proportion_compute(y_train)\n",
    "\n",
    "# normalization\n",
    "scaler = MinMaxScaler()\n",
    "x_train = scaler.fit_transform(x_train)"
   ]
  },
  {
   "cell_type": "markdown",
   "id": "3ff255ea8857e69b",
   "metadata": {},
   "source": [
    "### Step4: Data augmentation"
   ]
  },
  {
   "cell_type": "code",
   "execution_count": 24,
   "id": "c02cd96f44b6a34",
   "metadata": {
    "ExecuteTime": {
     "end_time": "2023-11-15T16:00:17.609795300Z",
     "start_time": "2023-11-15T16:00:17.236721900Z"
    }
   },
   "outputs": [
    {
     "name": "stdout",
     "output_type": "stream",
     "text": [
      "After sampling, the train set shape Counter({2.0: 1126, 1.0: 1120, 3.0: 1108, 0.0: 1098})\n",
      "The percentage of the label 0 in the train set is: 24.66%\n",
      "The percentage of the label 1 in the train set is: 25.16%\n",
      "The percentage of the label 2 in the train set is: 25.29%\n",
      "The percentage of the label 3 in the train set is: 24.89%\n"
     ]
    }
   ],
   "source": [
    "# due to the imbalance of the proportion of each type of samples in the training set, all samples were comprehensively sampled.\n",
    "smt = SMOTETomek(random_state=42)\n",
    "new_x_train, new_y_train = smt.fit_resample(x_train, y_train)\n",
    "print(\"After sampling, the train set shape %s\" %Counter(new_y_train))\n",
    "proportion_compute(new_y_train)"
   ]
  },
  {
   "cell_type": "markdown",
   "id": "c1e31417eb26cb6f",
   "metadata": {},
   "source": [
    "### Step5: Use the PCA and SVM classifier to process all dataset"
   ]
  },
  {
   "cell_type": "code",
   "execution_count": 11,
   "outputs": [
    {
     "name": "stdout",
     "output_type": "stream",
     "text": [
      "Fitting 3 folds for each of 1500 candidates, totalling 4500 fits\n"
     ]
    },
    {
     "data": {
      "text/plain": "GridSearchCV(cv=3, estimator=Pipeline(steps=[('pca', PCA()), ('svm', SVC())]),\n             n_jobs=-1,\n             param_grid=[{'pca__n_components': array([  1,   6,  11,  16,  21,  27,  32,  37,  42,  47,  53,  58,  63,\n        68,  73,  79,  84,  89,  94,  99, 105, 110, 115, 120, 125, 131,\n       136, 141, 146, 151, 157, 162, 167, 172, 177, 183, 188, 193, 198,\n       203, 209, 214, 219, 224, 229, 235, 240, 245, 250, 256]),\n                          'svm__C': [0.1, 1, 10, 20, 50, 100],\n                          'svm__kernel': ['linear']},\n                         {'pca__n_components': array([  1,   6,  11,  16,  21,  27,  32,  37,  42,  47,  53,  58,  63,\n        68,  73,  79,  84,  89,  94,  99, 105, 110, 115, 120, 125, 131,\n       136, 141, 146, 151, 157, 162, 167, 172, 177, 183, 188, 193, 198,\n       203, 209, 214, 219, 224, 229, 235, 240, 245, 250, 256]),\n                          'svm__C': [0.1, 1, 10, 20, 50, 100],\n                          'svm__gamma': [0.01, 0.1, 1, 10],\n                          'svm__kernel': ['rbf']}],\n             scoring='accuracy', verbose=100)",
      "text/html": "<style>#sk-container-id-1 {color: black;}#sk-container-id-1 pre{padding: 0;}#sk-container-id-1 div.sk-toggleable {background-color: white;}#sk-container-id-1 label.sk-toggleable__label {cursor: pointer;display: block;width: 100%;margin-bottom: 0;padding: 0.3em;box-sizing: border-box;text-align: center;}#sk-container-id-1 label.sk-toggleable__label-arrow:before {content: \"▸\";float: left;margin-right: 0.25em;color: #696969;}#sk-container-id-1 label.sk-toggleable__label-arrow:hover:before {color: black;}#sk-container-id-1 div.sk-estimator:hover label.sk-toggleable__label-arrow:before {color: black;}#sk-container-id-1 div.sk-toggleable__content {max-height: 0;max-width: 0;overflow: hidden;text-align: left;background-color: #f0f8ff;}#sk-container-id-1 div.sk-toggleable__content pre {margin: 0.2em;color: black;border-radius: 0.25em;background-color: #f0f8ff;}#sk-container-id-1 input.sk-toggleable__control:checked~div.sk-toggleable__content {max-height: 200px;max-width: 100%;overflow: auto;}#sk-container-id-1 input.sk-toggleable__control:checked~label.sk-toggleable__label-arrow:before {content: \"▾\";}#sk-container-id-1 div.sk-estimator input.sk-toggleable__control:checked~label.sk-toggleable__label {background-color: #d4ebff;}#sk-container-id-1 div.sk-label input.sk-toggleable__control:checked~label.sk-toggleable__label {background-color: #d4ebff;}#sk-container-id-1 input.sk-hidden--visually {border: 0;clip: rect(1px 1px 1px 1px);clip: rect(1px, 1px, 1px, 1px);height: 1px;margin: -1px;overflow: hidden;padding: 0;position: absolute;width: 1px;}#sk-container-id-1 div.sk-estimator {font-family: monospace;background-color: #f0f8ff;border: 1px dotted black;border-radius: 0.25em;box-sizing: border-box;margin-bottom: 0.5em;}#sk-container-id-1 div.sk-estimator:hover {background-color: #d4ebff;}#sk-container-id-1 div.sk-parallel-item::after {content: \"\";width: 100%;border-bottom: 1px solid gray;flex-grow: 1;}#sk-container-id-1 div.sk-label:hover label.sk-toggleable__label {background-color: #d4ebff;}#sk-container-id-1 div.sk-serial::before {content: \"\";position: absolute;border-left: 1px solid gray;box-sizing: border-box;top: 0;bottom: 0;left: 50%;z-index: 0;}#sk-container-id-1 div.sk-serial {display: flex;flex-direction: column;align-items: center;background-color: white;padding-right: 0.2em;padding-left: 0.2em;position: relative;}#sk-container-id-1 div.sk-item {position: relative;z-index: 1;}#sk-container-id-1 div.sk-parallel {display: flex;align-items: stretch;justify-content: center;background-color: white;position: relative;}#sk-container-id-1 div.sk-item::before, #sk-container-id-1 div.sk-parallel-item::before {content: \"\";position: absolute;border-left: 1px solid gray;box-sizing: border-box;top: 0;bottom: 0;left: 50%;z-index: -1;}#sk-container-id-1 div.sk-parallel-item {display: flex;flex-direction: column;z-index: 1;position: relative;background-color: white;}#sk-container-id-1 div.sk-parallel-item:first-child::after {align-self: flex-end;width: 50%;}#sk-container-id-1 div.sk-parallel-item:last-child::after {align-self: flex-start;width: 50%;}#sk-container-id-1 div.sk-parallel-item:only-child::after {width: 0;}#sk-container-id-1 div.sk-dashed-wrapped {border: 1px dashed gray;margin: 0 0.4em 0.5em 0.4em;box-sizing: border-box;padding-bottom: 0.4em;background-color: white;}#sk-container-id-1 div.sk-label label {font-family: monospace;font-weight: bold;display: inline-block;line-height: 1.2em;}#sk-container-id-1 div.sk-label-container {text-align: center;}#sk-container-id-1 div.sk-container {/* jupyter's `normalize.less` sets `[hidden] { display: none; }` but bootstrap.min.css set `[hidden] { display: none !important; }` so we also need the `!important` here to be able to override the default hidden behavior on the sphinx rendered scikit-learn.org. See: https://github.com/scikit-learn/scikit-learn/issues/21755 */display: inline-block !important;position: relative;}#sk-container-id-1 div.sk-text-repr-fallback {display: none;}</style><div id=\"sk-container-id-1\" class=\"sk-top-container\"><div class=\"sk-text-repr-fallback\"><pre>GridSearchCV(cv=3, estimator=Pipeline(steps=[(&#x27;pca&#x27;, PCA()), (&#x27;svm&#x27;, SVC())]),\n             n_jobs=-1,\n             param_grid=[{&#x27;pca__n_components&#x27;: array([  1,   6,  11,  16,  21,  27,  32,  37,  42,  47,  53,  58,  63,\n        68,  73,  79,  84,  89,  94,  99, 105, 110, 115, 120, 125, 131,\n       136, 141, 146, 151, 157, 162, 167, 172, 177, 183, 188, 193, 198,\n       203, 209, 214, 219, 224, 229, 235, 240, 245, 250, 256]),\n                          &#x27;svm__C&#x27;: [0.1, 1, 10, 20, 50, 100],\n                          &#x27;svm__kernel&#x27;: [&#x27;linear&#x27;]},\n                         {&#x27;pca__n_components&#x27;: array([  1,   6,  11,  16,  21,  27,  32,  37,  42,  47,  53,  58,  63,\n        68,  73,  79,  84,  89,  94,  99, 105, 110, 115, 120, 125, 131,\n       136, 141, 146, 151, 157, 162, 167, 172, 177, 183, 188, 193, 198,\n       203, 209, 214, 219, 224, 229, 235, 240, 245, 250, 256]),\n                          &#x27;svm__C&#x27;: [0.1, 1, 10, 20, 50, 100],\n                          &#x27;svm__gamma&#x27;: [0.01, 0.1, 1, 10],\n                          &#x27;svm__kernel&#x27;: [&#x27;rbf&#x27;]}],\n             scoring=&#x27;accuracy&#x27;, verbose=100)</pre><b>In a Jupyter environment, please rerun this cell to show the HTML representation or trust the notebook. <br />On GitHub, the HTML representation is unable to render, please try loading this page with nbviewer.org.</b></div><div class=\"sk-container\" hidden><div class=\"sk-item sk-dashed-wrapped\"><div class=\"sk-label-container\"><div class=\"sk-label sk-toggleable\"><input class=\"sk-toggleable__control sk-hidden--visually\" id=\"sk-estimator-id-1\" type=\"checkbox\" ><label for=\"sk-estimator-id-1\" class=\"sk-toggleable__label sk-toggleable__label-arrow\">GridSearchCV</label><div class=\"sk-toggleable__content\"><pre>GridSearchCV(cv=3, estimator=Pipeline(steps=[(&#x27;pca&#x27;, PCA()), (&#x27;svm&#x27;, SVC())]),\n             n_jobs=-1,\n             param_grid=[{&#x27;pca__n_components&#x27;: array([  1,   6,  11,  16,  21,  27,  32,  37,  42,  47,  53,  58,  63,\n        68,  73,  79,  84,  89,  94,  99, 105, 110, 115, 120, 125, 131,\n       136, 141, 146, 151, 157, 162, 167, 172, 177, 183, 188, 193, 198,\n       203, 209, 214, 219, 224, 229, 235, 240, 245, 250, 256]),\n                          &#x27;svm__C&#x27;: [0.1, 1, 10, 20, 50, 100],\n                          &#x27;svm__kernel&#x27;: [&#x27;linear&#x27;]},\n                         {&#x27;pca__n_components&#x27;: array([  1,   6,  11,  16,  21,  27,  32,  37,  42,  47,  53,  58,  63,\n        68,  73,  79,  84,  89,  94,  99, 105, 110, 115, 120, 125, 131,\n       136, 141, 146, 151, 157, 162, 167, 172, 177, 183, 188, 193, 198,\n       203, 209, 214, 219, 224, 229, 235, 240, 245, 250, 256]),\n                          &#x27;svm__C&#x27;: [0.1, 1, 10, 20, 50, 100],\n                          &#x27;svm__gamma&#x27;: [0.01, 0.1, 1, 10],\n                          &#x27;svm__kernel&#x27;: [&#x27;rbf&#x27;]}],\n             scoring=&#x27;accuracy&#x27;, verbose=100)</pre></div></div></div><div class=\"sk-parallel\"><div class=\"sk-parallel-item\"><div class=\"sk-item\"><div class=\"sk-label-container\"><div class=\"sk-label sk-toggleable\"><input class=\"sk-toggleable__control sk-hidden--visually\" id=\"sk-estimator-id-2\" type=\"checkbox\" ><label for=\"sk-estimator-id-2\" class=\"sk-toggleable__label sk-toggleable__label-arrow\">estimator: Pipeline</label><div class=\"sk-toggleable__content\"><pre>Pipeline(steps=[(&#x27;pca&#x27;, PCA()), (&#x27;svm&#x27;, SVC())])</pre></div></div></div><div class=\"sk-serial\"><div class=\"sk-item\"><div class=\"sk-serial\"><div class=\"sk-item\"><div class=\"sk-estimator sk-toggleable\"><input class=\"sk-toggleable__control sk-hidden--visually\" id=\"sk-estimator-id-3\" type=\"checkbox\" ><label for=\"sk-estimator-id-3\" class=\"sk-toggleable__label sk-toggleable__label-arrow\">PCA</label><div class=\"sk-toggleable__content\"><pre>PCA()</pre></div></div></div><div class=\"sk-item\"><div class=\"sk-estimator sk-toggleable\"><input class=\"sk-toggleable__control sk-hidden--visually\" id=\"sk-estimator-id-4\" type=\"checkbox\" ><label for=\"sk-estimator-id-4\" class=\"sk-toggleable__label sk-toggleable__label-arrow\">SVC</label><div class=\"sk-toggleable__content\"><pre>SVC()</pre></div></div></div></div></div></div></div></div></div></div></div></div>"
     },
     "execution_count": 11,
     "metadata": {},
     "output_type": "execute_result"
    }
   ],
   "source": [
    "pipeline = Pipeline([\n",
    "    ('pca', PCA()),\n",
    "    ('svm', SVC())\n",
    "])\n",
    "\n",
    "param_grid = [{\n",
    "    'pca__n_components': np.linspace(1, image_his.shape[1], 50, dtype='int'),\n",
    "    'svm__C': [0.1, 1, 10, 20, 50, 100],\n",
    "    'svm__kernel': ['linear']\n",
    "},\n",
    "{\n",
    "    'pca__n_components': np.linspace(1, image_his.shape[1], 50, dtype='int'),\n",
    "    'svm__C': [0.1, 1, 10, 20, 50, 100],\n",
    "    'svm__gamma': [0.01, 0.1, 1, 10],\n",
    "    'svm__kernel': ['rbf']\n",
    "}]\n",
    "\n",
    "grid_search = GridSearchCV(pipeline, param_grid, cv=3, scoring='accuracy', n_jobs=-1, verbose=100)\n",
    "grid_search.fit(new_x_train, new_y_train)"
   ],
   "metadata": {
    "collapsed": false,
    "ExecuteTime": {
     "end_time": "2023-11-15T15:20:05.094652700Z",
     "start_time": "2023-11-15T14:52:57.870743800Z"
    }
   },
   "id": "506032c0eedee7c4"
  },
  {
   "cell_type": "code",
   "execution_count": 25,
   "outputs": [
    {
     "name": "stdout",
     "output_type": "stream",
     "text": [
      "Best params of SVM is: {'pca__n_components': 235, 'svm__C': 100, 'svm__gamma': 1, 'svm__kernel': 'rbf'}\n"
     ]
    },
    {
     "data": {
      "text/plain": "['./best_svm_model.pkl']"
     },
     "execution_count": 25,
     "metadata": {},
     "output_type": "execute_result"
    }
   ],
   "source": [
    "print(f\"Best params of SVM is: {grid_search.best_params_}\")\n",
    "best_model = grid_search.best_estimator_\n",
    "joblib.dump(best_model, \"./best_svm_model.pkl\")"
   ],
   "metadata": {
    "collapsed": false,
    "ExecuteTime": {
     "end_time": "2023-11-15T16:00:32.232575200Z",
     "start_time": "2023-11-15T16:00:32.211574400Z"
    }
   },
   "id": "c169a039ece647a8"
  },
  {
   "cell_type": "markdown",
   "id": "b5a91b4d",
   "metadata": {
    "ExecuteTime": {
     "start_time": "2023-11-05T03:59:37.701515200Z"
    }
   },
   "source": [
    "# Test"
   ]
  },
  {
   "cell_type": "code",
   "execution_count": 27,
   "outputs": [],
   "source": [
    "classes = np.unique(y_train)\n",
    "classes_num = len(classes)\n",
    "# define the function to report the performance of the classifier\n",
    "def performance_report(y_true, y_pred):\n",
    "    confusion_matrix = metrics.confusion_matrix(y_true=y_true, y_pred=y_pred)\n",
    "    \n",
    "    # Display the confusion matrix\n",
    "    plt.figure(figsize=(4, 4))\n",
    "    plt.title(\"Confusion Matrix\")\n",
    "    plt.xticks(ticks=np.arange(classes_num), labels=classes)\n",
    "    plt.yticks(ticks=np.arange(classes_num), labels=classes)\n",
    "    plt.xlabel(\"Predicted Label\")\n",
    "    plt.ylabel(\"True Label\")\n",
    "    plt.imshow(confusion_matrix, cmap=plt.get_cmap(\"Blues\"))\n",
    "    \n",
    "    # Add labels to each cell\n",
    "    for y in range(classes_num):\n",
    "        for x in range(classes_num):\n",
    "            plt.text(x, y, str(confusion_matrix[y, x]), ha='center', va='center')\n",
    "    plt.show()"
   ],
   "metadata": {
    "collapsed": false,
    "ExecuteTime": {
     "end_time": "2023-11-15T16:00:58.991404700Z",
     "start_time": "2023-11-15T16:00:58.965402200Z"
    }
   },
   "id": "e4d1854ef9a0b068"
  },
  {
   "cell_type": "markdown",
   "id": "9ec5a245",
   "metadata": {},
   "source": [
    "### Step1. Test the model using all images"
   ]
  },
  {
   "cell_type": "code",
   "execution_count": 28,
   "outputs": [
    {
     "data": {
      "text/plain": "<Figure size 400x400 with 1 Axes>",
      "image/png": "[encoded data removed]"
     },
     "metadata": {},
     "output_type": "display_data"
    },
    {
     "name": "stdout",
     "output_type": "stream",
     "text": [
      "Using all test images to assess the model, the performance is: \n",
      "\n",
      "              precision    recall  f1-score   support\n",
      "\n",
      "         0.0       0.57      1.00      0.73       377\n",
      "         1.0       0.00      0.00      0.00        74\n",
      "         2.0       0.00      0.00      0.00        26\n",
      "         3.0       0.00      0.00      0.00       179\n",
      "\n",
      "    accuracy                           0.57       656\n",
      "   macro avg       0.14      0.25      0.18       656\n",
      "weighted avg       0.33      0.57      0.42       656\n"
     ]
    }
   ],
   "source": [
    "# predict\n",
    "predict_labels = best_model.predict(x_test)\n",
    "# assess the model\n",
    "performance_report(y_test, predict_labels)\n",
    "accuracy_performance = metrics.classification_report(y_test, predict_labels)\n",
    "print(\"Using all test images to assess the model, the performance is: \\n\")\n",
    "print(accuracy_performance)"
   ],
   "metadata": {
    "collapsed": false,
    "ExecuteTime": {
     "end_time": "2023-11-15T16:01:00.524874500Z",
     "start_time": "2023-11-15T16:01:00.105094Z"
    }
   },
   "id": "880a5ec077089af1"
  },
  {
   "cell_type": "markdown",
   "source": [
    "### Step2. Test the model using mono images"
   ],
   "metadata": {
    "collapsed": false
   },
   "id": "64a71e575a967bb7"
  },
  {
   "cell_type": "code",
   "execution_count": 34,
   "outputs": [
    {
     "data": {
      "text/plain": "<Figure size 400x400 with 1 Axes>",
      "image/png": "[encoded data removed]"
     },
     "metadata": {},
     "output_type": "display_data"
    },
    {
     "name": "stdout",
     "output_type": "stream",
     "text": [
      "Using mono images in test set to assess the model, the performance is: \n",
      "\n",
      "              precision    recall  f1-score   support\n",
      "\n",
      "         0.0       0.57      1.00      0.73       149\n",
      "         1.0       0.00      0.00      0.00        28\n",
      "         2.0       0.00      0.00      0.00        16\n",
      "         3.0       0.00      0.00      0.00        69\n",
      "\n",
      "    accuracy                           0.57       262\n",
      "   macro avg       0.14      0.25      0.18       262\n",
      "weighted avg       0.32      0.57      0.41       262\n"
     ]
    }
   ],
   "source": [
    "# find the mono images\n",
    "test_mono_indices = []\n",
    "mono_indices = np.where(types == 'mono')[0]\n",
    "for i in range(len(x_test)):\n",
    "    for j in mono_indices:\n",
    "        if np.array_equal(x_test[i], image_his[j]):\n",
    "            test_mono_indices.append(i)\n",
    "# predict\n",
    "mono_predict_labels = best_model.predict(x_test[test_mono_indices])\n",
    "# assess the model\n",
    "performance_report(y_test[test_mono_indices], mono_predict_labels)\n",
    "mono_accuracy_performance = metrics.classification_report(y_test[test_mono_indices], mono_predict_labels)\n",
    "print(\"Using mono images in test set to assess the model, the performance is: \\n\")\n",
    "print(mono_accuracy_performance)"
   ],
   "metadata": {
    "collapsed": false,
    "ExecuteTime": {
     "end_time": "2023-11-15T16:13:16.301976900Z",
     "start_time": "2023-11-15T16:13:13.560596300Z"
    }
   },
   "id": "9372f331c5e87fd5"
  },
  {
   "cell_type": "markdown",
   "source": [
    "### Step3. Test the model using poly images"
   ],
   "metadata": {
    "collapsed": false
   },
   "id": "eda032cd6f24bff6"
  },
  {
   "cell_type": "code",
   "execution_count": 35,
   "outputs": [
    {
     "data": {
      "text/plain": "<Figure size 400x400 with 1 Axes>",
      "image/png": "[encoded data removed]"
     },
     "metadata": {},
     "output_type": "display_data"
    },
    {
     "name": "stdout",
     "output_type": "stream",
     "text": [
      "Using poly images in test set to assess the model, the performance is: \n",
      "\n",
      "              precision    recall  f1-score   support\n",
      "\n",
      "         0.0       0.58      1.00      0.73       228\n",
      "         1.0       0.00      0.00      0.00        46\n",
      "         2.0       0.00      0.00      0.00        10\n",
      "         3.0       0.00      0.00      0.00       110\n",
      "\n",
      "    accuracy                           0.58       394\n",
      "   macro avg       0.14      0.25      0.18       394\n",
      "weighted avg       0.33      0.58      0.42       394\n"
     ]
    }
   ],
   "source": [
    "# find the poly images\n",
    "test_poly_indices = []\n",
    "poly_indices = np.where(types == 'poly')[0]\n",
    "for i in range(len(x_test)):\n",
    "    for j in poly_indices:\n",
    "        if np.array_equal(x_test[i], image_his[j]):\n",
    "            test_poly_indices.append(i)\n",
    "\n",
    "# predict\n",
    "poly_predict_labels = best_model.predict(x_test[test_poly_indices])\n",
    "# assess the model\n",
    "performance_report(y_test[test_poly_indices], poly_predict_labels)\n",
    "poly_accuracy_performance = metrics.classification_report(y_test[test_poly_indices], poly_predict_labels)\n",
    "print(\"Using poly images in test set to assess the model, the performance is: \\n\")\n",
    "print(poly_accuracy_performance)"
   ],
   "metadata": {
    "collapsed": false,
    "ExecuteTime": {
     "end_time": "2023-11-15T16:14:55.655699600Z",
     "start_time": "2023-11-15T16:14:51.678083300Z"
    }
   },
   "id": "807ebbbecd6cf6f3"
  }
 ],
 "metadata": {
  "celltoolbar": "Edit Metadata",
  "kernelspec": {
   "display_name": "Python 3 (ipykernel)",
   "language": "python",
   "name": "python3"
  },
  "language_info": {
   "codemirror_mode": {
    "name": "ipython",
    "version": 3
   },
   "file_extension": ".py",
   "mimetype": "text/x-python",
   "name": "python",
   "nbconvert_exporter": "python",
   "pygments_lexer": "ipython3",
   "version": "3.8.18"
  }
 },
 "nbformat": 4,
 "nbformat_minor": 5
}
