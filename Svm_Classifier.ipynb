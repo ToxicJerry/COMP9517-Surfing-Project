{
 "cells": [
  {
   "cell_type": "code",
   "execution_count": 79,
   "id": "798894ac8773ff6d",
   "metadata": {
    "ExecuteTime": {
     "end_time": "2023-11-15T13:01:08.276443800Z",
     "start_time": "2023-11-15T13:01:08.260425500Z"
    }
   },
   "outputs": [],
   "source": [
    "import cv2\n",
    "import numpy as np\n",
    "from sklearn.model_selection import train_test_split, GridSearchCV\n",
    "from sklearn.preprocessing import MinMaxScaler\n",
    "from sklearn.decomposition import PCA\n",
    "from sklearn.pipeline import Pipeline\n",
    "from sklearn import metrics\n",
    "from sklearn.svm import SVC\n",
    "from imblearn.combine import SMOTETomek\n",
    "from collections import Counter\n",
    "import joblib\n",
    "import matplotlib.pyplot as plt\n",
    "from utils.elpv_reader import load_dataset\n",
    "import warnings\n",
    "warnings.filterwarnings('ignore', category=metrics._classification.UndefinedMetricWarning)"
   ]
  },
  {
   "cell_type": "code",
   "execution_count": 80,
   "outputs": [],
   "source": [
    "def proportion_compute(label_set):\n",
    "    label1, label2, label3, label4 = 0, 0, 0, 0\n",
    "    for i in range(len(label_set)):\n",
    "        if label_set[i] == 0:\n",
    "            label1 += 1\n",
    "        elif label_set[i] == 1:\n",
    "            label2 += 1\n",
    "        elif label_set[i] == 2:\n",
    "            label3 += 1\n",
    "        else:\n",
    "            label4 += 1\n",
    "    print(\"The percentage of the label 0 in the train set is: {:.2%}\".format(label1 / len(label_set)))\n",
    "    print(\"The percentage of the label 1 in the train set is: {:.2%}\".format(label2 / len(label_set)))\n",
    "    print(\"The percentage of the label 2 in the train set is: {:.2%}\".format(label3 / len(label_set)))\n",
    "    print(\"The percentage of the label 3 in the train set is: {:.2%}\".format(label4 / len(label_set)))"
   ],
   "metadata": {
    "collapsed": false,
    "ExecuteTime": {
     "end_time": "2023-11-15T13:01:10.434871Z",
     "start_time": "2023-11-15T13:01:10.407962400Z"
    }
   },
   "id": "23479038320e3231"
  },
  {
   "cell_type": "markdown",
   "id": "8dbe4032d90cd92a",
   "metadata": {},
   "source": [
    "### Step1:  Load the dataset"
   ]
  },
  {
   "cell_type": "code",
   "execution_count": 81,
   "id": "a3279c3c3e82b855",
   "metadata": {
    "ExecuteTime": {
     "end_time": "2023-11-15T13:01:19.362213Z",
     "start_time": "2023-11-15T13:01:14.350304600Z"
    }
   },
   "outputs": [
    {
     "name": "stdout",
     "output_type": "stream",
     "text": [
      "The size of the data set is: 2624\n",
      "The size of the image is: 300 * 300\n",
      "[1. 1. 1. ... 0. 0. 0.]\n",
      "['mono' 'mono' 'mono' ... 'poly' 'poly' 'poly']\n"
     ]
    }
   ],
   "source": [
    "# Respectively: image, reflection probability, type. Our classifier needs to classify based on reflection probability\n",
    "images, proba, types = load_dataset()\n",
    "print(f\"The size of the data set is: {images.shape[0]}\")\n",
    "print(f\"The size of the image is: {images.shape[1]} * {images.shape[2]}\")\n",
    "print(proba)\n",
    "print(types)"
   ]
  },
  {
   "cell_type": "code",
   "execution_count": 82,
   "outputs": [
    {
     "name": "stdout",
     "output_type": "stream",
     "text": [
      "[3. 3. 3. ... 0. 0. 0.]\n"
     ]
    }
   ],
   "source": [
    "# change label, label will be 0 1 2 3\n",
    "label_mapping = {0.0: 0, 0.3333333333333333: 1, 0.6666666666666666: 2, 1.0: 3}\n",
    "for x in range(len(proba)):\n",
    "    if proba[x] in label_mapping:\n",
    "        proba[x] = label_mapping[proba[x]]\n",
    "print(proba)"
   ],
   "metadata": {
    "collapsed": false,
    "ExecuteTime": {
     "end_time": "2023-11-15T13:01:37.643461200Z",
     "start_time": "2023-11-15T13:01:37.616942600Z"
    }
   },
   "id": "c10ee34fed54b33a"
  },
  {
   "cell_type": "markdown",
   "id": "2c8a2bdb22cbe313",
   "metadata": {},
   "source": [
    "### Step2: Feature extraction"
   ]
  },
  {
   "cell_type": "code",
   "execution_count": 83,
   "id": "5a64daf40d020ea4",
   "metadata": {
    "ExecuteTime": {
     "end_time": "2023-11-15T13:02:05.282972300Z",
     "start_time": "2023-11-15T13:01:38.743271700Z"
    }
   },
   "outputs": [
    {
     "name": "stdout",
     "output_type": "stream",
     "text": [
      "(2624, 256)\n"
     ]
    },
    {
     "data": {
      "text/plain": "<Figure size 640x480 with 1 Axes>",
      "image/png": "[encoded data removed]"
     },
     "metadata": {},
     "output_type": "display_data"
    }
   ],
   "source": [
    "# Convert each image to the pixel histogram\n",
    "image_his = []\n",
    "for image in images:\n",
    "    hist = cv2.calcHist([images], [0], None, [256], [0, 256])\n",
    "    image_his.append(hist.flatten())\n",
    "    \n",
    "image_his = np.array(image_his)\n",
    "print(image_his.shape)\n",
    "plt.plot(image_his[0])\n",
    "plt.show()"
   ]
  },
  {
   "cell_type": "markdown",
   "id": "7419097127059e99",
   "metadata": {},
   "source": [
    "### Step3: Split the dataset into train set and test set"
   ]
  },
  {
   "cell_type": "code",
   "execution_count": 84,
   "id": "903831c3d0d0623c",
   "metadata": {
    "ExecuteTime": {
     "end_time": "2023-11-15T13:02:34.953208500Z",
     "start_time": "2023-11-15T13:02:34.934203300Z"
    }
   },
   "outputs": [
    {
     "name": "stdout",
     "output_type": "stream",
     "text": [
      "Original train set shape Counter({0.0: 1131, 3.0: 536, 1.0: 221, 2.0: 80})\n",
      "The percentage of the label 0 in the train set is: 57.47%\n",
      "The percentage of the label 1 in the train set is: 11.23%\n",
      "The percentage of the label 2 in the train set is: 4.07%\n",
      "The percentage of the label 3 in the train set is: 27.24%\n"
     ]
    }
   ],
   "source": [
    "x_train, x_test, y_train, y_test = train_test_split(image_his, proba, test_size=0.25, stratify=proba, random_state=42)\n",
    "# statistics of the proportion of each label in the training set\n",
    "print(\"Original train set shape %s\" %Counter(y_train))\n",
    "proportion_compute(y_train)"
   ]
  },
  {
   "cell_type": "markdown",
   "id": "3ff255ea8857e69b",
   "metadata": {},
   "source": [
    "### Step4: Data augmentation"
   ]
  },
  {
   "cell_type": "code",
   "execution_count": 85,
   "id": "c02cd96f44b6a34",
   "metadata": {
    "ExecuteTime": {
     "end_time": "2023-11-15T13:02:39.241169600Z",
     "start_time": "2023-11-15T13:02:38.910602800Z"
    }
   },
   "outputs": [
    {
     "name": "stdout",
     "output_type": "stream",
     "text": [
      "After sampling, the train set shape Counter({1.0: 1131, 0.0: 1131, 3.0: 1131, 2.0: 1131})\n",
      "The percentage of the label 0 in the train set is: 25.00%\n",
      "The percentage of the label 1 in the train set is: 25.00%\n",
      "The percentage of the label 2 in the train set is: 25.00%\n",
      "The percentage of the label 3 in the train set is: 25.00%\n"
     ]
    }
   ],
   "source": [
    "# due to the imbalance of the proportion of each type of samples in the training set, all samples were comprehensively sampled.\n",
    "smt = SMOTETomek(random_state=42)\n",
    "new_x_train, new_y_train = smt.fit_resample(x_train, y_train)\n",
    "print(\"After sampling, the train set shape %s\" %Counter(new_y_train))\n",
    "proportion_compute(new_y_train)"
   ]
  },
  {
   "cell_type": "markdown",
   "id": "c1e31417eb26cb6f",
   "metadata": {},
   "source": [
    "### Step5: Use the PCA and SVM classifier to process all dataset"
   ]
  },
  {
   "cell_type": "code",
   "execution_count": null,
   "outputs": [],
   "source": [
    "# normalization\n",
    "scaler = MinMaxScaler()\n",
    "new_x_train = scaler.fit_transform(new_x_train)\n",
    "x_test = scaler.fit_transform(x_test)\n",
    "\n",
    "pipeline = Pipeline([\n",
    "    ('pca', PCA()),\n",
    "    ('svm', SVC())\n",
    "])\n",
    "\n",
    "param_grid = [{\n",
    "    'pca__n_components': range(1, image_his.shape[1] + 1),\n",
    "    'svm__C': [0.01, 0.1, 1, 10, 100],\n",
    "    'svm__kernel': ['linear']\n",
    "},\n",
    "{\n",
    "    'pca__n_components': range(1, image_his.shape[1] + 1),\n",
    "    'svm__C': [0.01, 0.1, 1, 10, 100],\n",
    "    'svm__gamma': [0.0001, 0.001, 0.01, 0.1, 1, 10],\n",
    "    'svm__kernel': ['rbf']\n",
    "}]\n",
    "\n",
    "grid_search = GridSearchCV(pipeline, param_grid, cv=5, scoring='accuracy', verbose=100)\n",
    "grid_search.fit(x_train, y_train.astype(\"str\"))"
   ],
   "metadata": {
    "collapsed": false
   },
   "id": "506032c0eedee7c4"
  },
  {
   "cell_type": "code",
   "execution_count": 8,
   "id": "c169a039ece647a8",
   "metadata": {},
   "outputs": [],
   "source": [
    "print(f\"Best params of SVM is: {grid_search.best_params_}\")\n",
    "best_model = grid_search.best_estimator_\n",
    "predict_labels = best_model.predict(x_test)\n",
    "print(f\"The performance of the best model is:\")\n",
    "print(metrics.classification_report(y_test, predict_labels))"
   ]
  },
  {
   "cell_type": "markdown",
   "id": "b5a91b4d",
   "metadata": {
    "ExecuteTime": {
     "start_time": "2023-11-05T03:59:37.701515200Z"
    }
   },
   "source": [
    "# Test"
   ]
  },
  {
   "cell_type": "code",
   "execution_count": 9,
   "id": "b86102b4",
   "metadata": {
    "ExecuteTime": {
     "end_time": "2023-11-09T17:21:29.903453900Z",
     "start_time": "2023-11-09T17:21:26.313592600Z"
    }
   },
   "outputs": [],
   "source": [
    "from sklearn.metrics import confusion_matrix\n",
    "import pandas as pd"
   ]
  },
  {
   "cell_type": "markdown",
   "id": "9ec5a245",
   "metadata": {},
   "source": [
    "### 1. Calculate the confusion matrix for all test images"
   ]
  },
  {
   "cell_type": "code",
   "execution_count": 38,
   "id": "e18d44bd",
   "metadata": {},
   "outputs": [
    {
     "name": "stdout",
     "output_type": "stream",
     "text": [
      "Confusion Matrix (All Test Images):\n",
      "\t0.0\t0.3333\t0.6666\t1.0\n",
      "0.0\t349\t3\t1\t24\t\n",
      "0.3333\t67\t2\t0\t5\t\n",
      "0.6666\t24\t0\t0\t2\t\n",
      "1.0\t93\t0\t1\t85\t\n",
      "\n",
      "Class 0.0:\n",
      "Precision: 0.65\n",
      "Recall: 0.93\n",
      "F1 Score: 0.77\n",
      "\n",
      "Class 0.3333:\n",
      "Precision: 0.40\n",
      "Recall: 0.03\n",
      "F1 Score: 0.05\n",
      "\n",
      "Class 0.6666:\n",
      "Precision: 0.00\n",
      "Recall: 0.00\n",
      "F1 Score: 0.00\n",
      "\n",
      "Class 1.0:\n",
      "Precision: 0.73\n",
      "Recall: 0.47\n",
      "F1 Score: 0.58\n",
      "\n",
      "Class 0.0:\n",
      "Accuracy: 67.68%\n",
      "\n",
      "Class 0.3333:\n",
      "Accuracy: 88.57%\n",
      "\n",
      "Class 0.6666:\n",
      "Accuracy: 95.73%\n",
      "\n",
      "Class 1.0:\n",
      "Accuracy: 80.95%\n"
     ]
    }
   ],
   "source": [
    "# Calculate the confusion matrix for all test images\n",
    "predict_labels = grid_search.predict(x_test)\n",
    "confusion_all = confusion_matrix(y_test, predict_labels)\n",
    "# print(confusion_all)\n",
    "confusion_all = np.array(confusion_all)\n",
    "\n",
    "# Class label\n",
    "class_labels = [\"0.0\", \"0.3333\", \"0.6666\", \"1.0\"]\n",
    "\n",
    "# Print confusion matrix\n",
    "print(\"Confusion Matrix (All Test Images):\")\n",
    "print(\"\\t\" + \"\\t\".join(class_labels))\n",
    "for i in range(len(class_labels)):\n",
    "    print(class_labels[i] + \"\\t\", end=\"\")\n",
    "    for j in range(len(class_labels)):\n",
    "        print(confusion_all[i][j], end=\"\\t\")\n",
    "    print()\n",
    "\n",
    "# Calculate accuracy, recall and F1 scores\n",
    "for i in range(len(class_labels)):\n",
    "    tp = confusion_all[i][i]\n",
    "    fp = sum(confusion_all[j][i] for j in range(len(class_labels)) if j != i)\n",
    "    fn = sum(confusion_all[i][j] for j in range(len(class_labels)) if j != i)\n",
    "    precision = tp / (tp + fp)\n",
    "    recall = tp / (tp + fn)\n",
    "    if precision + recall == 0:\n",
    "        f1 = 0\n",
    "    else:\n",
    "        f1 = 2 * (precision * recall) / (precision + recall)\n",
    "\n",
    "    print(f\"\\nClass {class_labels[i]}:\")\n",
    "    print(f\"Precision: {precision:.2f}\")\n",
    "    print(f\"Recall: {recall:.2f}\")\n",
    "    print(f\"F1 Score: {f1:.2f}\")\n",
    "\n",
    "# Calculate and output the Accuracy for each class\n",
    "for i in range(len(class_labels)):\n",
    "    tp = confusion_all[i][i]\n",
    "    tn = sum(confusion_all[j][k] for j in range(len(class_labels)) for k in range(len(class_labels)) if j != i and k != i)\n",
    "    fp = sum(confusion_all[j][i] for j in range(len(class_labels)) if j != i)\n",
    "    fn = sum(confusion_all[i][j] for j in range(len(class_labels)) if j != i)\n",
    "    \n",
    "    accuracy_class_i = (tp + tn) / (tp + tn + fp + fn)\n",
    "    \n",
    "    print(f\"\\nClass {class_labels[i]}:\")\n",
    "    print(f\"Accuracy: {accuracy_class_i:.2%}\")\n"
   ]
  },
  {
   "cell_type": "markdown",
   "id": "01bbc95f",
   "metadata": {},
   "source": [
    "### 2.Calculate the confusion matrix for monocrystalline"
   ]
  },
  {
   "cell_type": "code",
   "execution_count": 26,
   "id": "7a4026f9",
   "metadata": {},
   "outputs": [
    {
     "name": "stdout",
     "output_type": "stream",
     "text": [
      "Monocrystalline Indices Range: 0 to 2443\n"
     ]
    }
   ],
   "source": [
    "# monocrystalline_indices range of index values\n",
    "y_test = y_test.astype(\"str\")\n",
    "monocrystalline_indices = np.where(types == 'mono')\n",
    "print(\"Monocrystalline Indices Range:\", min(monocrystalline_indices[0]), \"to\", max(monocrystalline_indices[0]))"
   ]
  },
  {
   "cell_type": "code",
   "execution_count": 27,
   "id": "92475c5a",
   "metadata": {},
   "outputs": [
    {
     "name": "stdout",
     "output_type": "stream",
     "text": [
      "['mono' 'poly']\n"
     ]
    }
   ],
   "source": [
    "# Prints the unique value of the types array\n",
    "unique_types = np.unique(types)\n",
    "print(unique_types)\n"
   ]
  },
  {
   "cell_type": "code",
   "execution_count": 28,
   "id": "5a247ed0",
   "metadata": {},
   "outputs": [],
   "source": [
    "# calculate monocrystalline_indices\n",
    "monocrystalline_indices = np.where(types == 'mono')[0]  # Extract the index array with [0]\n",
    "\n",
    "# Create a y_test_mono array that contains only the real labels for images of type \"monocrystalline\"\n",
    "y_test_mono = y_test[monocrystalline_indices[monocrystalline_indices < len(y_test)]]\n",
    "\n",
    "# Creates the predict_labels_mono array that contains only prediction labels for images of type \"monocrystalline\"\n",
    "predict_labels_mono = predict_labels[monocrystalline_indices[monocrystalline_indices < len(y_test)]]"
   ]
  },
  {
   "cell_type": "code",
   "execution_count": 29,
   "id": "7e71d368",
   "metadata": {},
   "outputs": [
    {
     "name": "stdout",
     "output_type": "stream",
     "text": [
      "Indices with mismatched labels: [0]\n"
     ]
    },
    {
     "name": "stderr",
     "output_type": "stream",
     "text": [
      "/var/folders/2f/yj4193f95b58g8d0ymcxp11w0000gn/T/ipykernel_60889/3185375691.py:2: FutureWarning: elementwise comparison failed; returning scalar instead, but in the future will perform elementwise comparison\n",
      "  mismatched_indices = np.where(types != y_test)[0]\n"
     ]
    }
   ],
   "source": [
    "# Check that the sample in the types array matches the label in the corresponding position in y_test\n",
    "mismatched_indices = np.where(types != y_test)[0]\n",
    "print(\"Indices with mismatched labels:\", mismatched_indices)\n"
   ]
  },
  {
   "cell_type": "code",
   "execution_count": 30,
   "id": "83a00ee3",
   "metadata": {},
   "outputs": [
    {
     "name": "stdout",
     "output_type": "stream",
     "text": [
      "Sample at index 0 - 'types' label: mono, 'y_test' label: 0.6666666666666666\n"
     ]
    }
   ],
   "source": [
    "print(f\"Sample at index 0 - 'types' label: {types[0]}, 'y_test' label: {y_test[0]}\")"
   ]
  },
  {
   "cell_type": "code",
   "execution_count": 41,
   "id": "a0d2b073",
   "metadata": {},
   "outputs": [
    {
     "name": "stdout",
     "output_type": "stream",
     "text": [
      "\n",
      "Confusion Matrix (monocrystalline):\n",
      "                    0.0  0.3333333333333333  0.6666666666666666  1.0\n",
      "0.0                 120                   1                   0   11\n",
      "0.3333333333333333   25                   2                   0    2\n",
      "0.6666666666666666   11                   0                   0    1\n",
      "1.0                  41                   0                   0   26\n",
      "\n",
      "Class 0.0:\n",
      "Precision: 0.61\n",
      "Recall: 0.91\n",
      "F1 Score: 0.73\n",
      "\n",
      "Class 0.3333333333333333:\n",
      "Precision: 0.67\n",
      "Recall: 0.07\n",
      "F1 Score: 0.12\n",
      "\n",
      "Class 0.6666666666666666:\n",
      "Precision: 0.00\n",
      "Recall: 0.00\n",
      "F1 Score: 0.00\n",
      "\n",
      "Class 1.0:\n",
      "Precision: 0.65\n",
      "Recall: 0.39\n",
      "F1 Score: 0.49\n",
      "\n",
      "Class 0.0 in monocrystalline:\n",
      "Accuracy: 62.92%\n",
      "\n",
      "Class 0.3333333333333333 in monocrystalline:\n",
      "Accuracy: 88.33%\n",
      "\n",
      "Class 0.6666666666666666 in monocrystalline:\n",
      "Accuracy: 95.00%\n",
      "\n",
      "Class 1.0 in monocrystalline:\n",
      "Accuracy: 77.08%\n"
     ]
    }
   ],
   "source": [
    "# Computational confusion matrix\n",
    "confusion_mono = confusion_matrix(y_test_mono.astype(\"str\"), predict_labels_mono)\n",
    "\n",
    "# Creates row and column labels for the confusion matrix\n",
    "class_labels = ['0.0', '0.3333333333333333', '0.6666666666666666', '1.0']\n",
    "\n",
    "# Create a data box with an explained confusion matrix\n",
    "confusion_mono_df = pd.DataFrame(confusion_mono, index=class_labels, columns=class_labels)\n",
    "\n",
    "print(\"\\nConfusion Matrix (monocrystalline):\")\n",
    "print(confusion_mono_df)\n",
    "\n",
    "# Calculate accuracy, recall and F1 scores\n",
    "for i in range(len(class_labels)):\n",
    "    tp = confusion_mono[i][i]\n",
    "    fp = sum(confusion_mono[j][i] for j in range(len(class_labels)) if j != i)\n",
    "    fn = sum(confusion_mono[i][j] for j in range(len(class_labels)) if j != i)\n",
    "   \n",
    "    # Check if the denominator is zero before performing the division\n",
    "    if tp + fp == 0:\n",
    "        precision = 0\n",
    "    else:\n",
    "        precision = tp / (tp + fp)\n",
    "\n",
    "    recall = tp / (tp + fn)\n",
    "    if precision + recall == 0:\n",
    "        f1 = 0\n",
    "    else:\n",
    "        f1 = 2 * (precision * recall) / (precision + recall)\n",
    "\n",
    "    print(f\"\\nClass {class_labels[i]}:\")\n",
    "    print(f\"Precision: {precision:.2f}\")\n",
    "    print(f\"Recall: {recall:.2f}\")\n",
    "    print(f\"F1 Score: {f1:.2f}\")\n",
    "\n",
    "# Calculate and output the Accuracy for each class in monocrystalline\n",
    "for i in range(len(class_labels)):\n",
    "    tp = confusion_mono[i][i]\n",
    "    tn = sum(confusion_mono[j][k] for j in range(len(class_labels)) for k in range(len(class_labels)) if j != i and k != i)\n",
    "    fp = sum(confusion_mono[j][i] for j in range(len(class_labels)) if j != i)\n",
    "    fn = sum(confusion_mono[i][j] for j in range(len(class_labels)) if j != i)\n",
    "    \n",
    "    accuracy_class_i = (tp + tn) / (tp + tn + fp + fn)\n",
    "    \n",
    "    print(f\"\\nClass {class_labels[i]} in monocrystalline:\")\n",
    "    print(f\"Accuracy: {accuracy_class_i:.2%}\")"
   ]
  },
  {
   "cell_type": "markdown",
   "id": "b5862191",
   "metadata": {},
   "source": [
    "### 3.Calculate the confusion matrix for polycrystalline"
   ]
  },
  {
   "cell_type": "code",
   "execution_count": 32,
   "id": "39434f9a",
   "metadata": {},
   "outputs": [],
   "source": [
    "from sklearn.metrics import confusion_matrix"
   ]
  },
  {
   "cell_type": "code",
   "execution_count": 33,
   "id": "334b84f4",
   "metadata": {},
   "outputs": [
    {
     "name": "stdout",
     "output_type": "stream",
     "text": [
      "The types array contains labels of type 'poly'\n"
     ]
    }
   ],
   "source": [
    "# Check that the types array contains labels of type 'poly'\n",
    "contains_poly = 'poly' in types\n",
    "\n",
    "if contains_poly:\n",
    "    print(\"The types array contains labels of type 'poly'\")\n",
    "else:\n",
    "    print(\"The types array does not contain labels of type 'poly'\")"
   ]
  },
  {
   "cell_type": "code",
   "execution_count": 35,
   "id": "14c3f246",
   "metadata": {},
   "outputs": [],
   "source": [
    "# print(\"y_test size:\", y_test.shape)\n",
    "\n",
    "# # predict_labels size\n",
    "# predict_labels = svm_classifier.predict(his_test)\n",
    "# print(\"predict_labels size:\", predict_labels.shape)"
   ]
  },
  {
   "cell_type": "code",
   "execution_count": 36,
   "id": "e67b5941",
   "metadata": {},
   "outputs": [
    {
     "name": "stdout",
     "output_type": "stream",
     "text": [
      "[  60   61   62 ... 2621 2622 2623]\n"
     ]
    }
   ],
   "source": [
    "polycrystalline_indices = np.where(types == 'poly')[0]\n",
    "print(polycrystalline_indices)"
   ]
  },
  {
   "cell_type": "code",
   "execution_count": 42,
   "id": "7aaf2d08",
   "metadata": {
    "scrolled": true
   },
   "outputs": [
    {
     "name": "stdout",
     "output_type": "stream",
     "text": [
      "Confusion Matrix (poly):\n",
      "                    0.0  0.3333333333333333  0.6666666666666666  1.0\n",
      "0.0                 229                   2                   1   13\n",
      "0.3333333333333333   42                   0                   0    3\n",
      "0.6666666666666666   13                   0                   0    1\n",
      "1.0                  52                   0                   1   59\n",
      "\n",
      "Class 0.0:\n",
      "Precision: 0.68\n",
      "Recall: 0.93\n",
      "F1 Score: 0.79\n",
      "\n",
      "Class 0.3333333333333333:\n",
      "Precision: 0.00\n",
      "Recall: 0.00\n",
      "F1 Score: 0.00\n",
      "\n",
      "Class 0.6666666666666666:\n",
      "Precision: 0.00\n",
      "Recall: 0.00\n",
      "F1 Score: 0.00\n",
      "\n",
      "Class 1.0:\n",
      "Precision: 0.78\n",
      "Recall: 0.53\n",
      "F1 Score: 0.63\n",
      "\n",
      "Class 0.0 in polycrystalline:\n",
      "Accuracy: 70.43%\n",
      "\n",
      "Class 0.3333333333333333 in polycrystalline:\n",
      "Accuracy: 88.70%\n",
      "\n",
      "Class 0.6666666666666666 in polycrystalline:\n",
      "Accuracy: 96.15%\n",
      "\n",
      "Class 1.0 in polycrystalline:\n",
      "Accuracy: 83.17%\n"
     ]
    }
   ],
   "source": [
    "y_test_poly = y_test[polycrystalline_indices[polycrystalline_indices < len(y_test)]]\n",
    "predict_labels_poly = predict_labels[polycrystalline_indices[polycrystalline_indices < len(y_test)]]\n",
    "\n",
    "# The confusion matrix of polycrystalline hybrid samples is calculated\n",
    "confusion_poly = confusion_matrix(y_test_poly.astype(\"str\"), predict_labels_poly)\n",
    "\n",
    "# Creates row and column labels for the confusion matrix\n",
    "class_labels = ['0.0', '0.3333333333333333', '0.6666666666666666', '1.0']\n",
    "\n",
    "# Create a data box to display the confusion matrix\n",
    "confusion_poly_df = pd.DataFrame(confusion_poly, index=class_labels, columns=class_labels)\n",
    "\n",
    "# Print confusion matrix\n",
    "print(\"Confusion Matrix (poly):\")\n",
    "print(confusion_poly_df)\n",
    "\n",
    "\n",
    "# Calculate and output the Precision, Recall, and F1 Score for each category\n",
    "for i in range(len(class_labels)):\n",
    "    tp = confusion_poly[i][i]\n",
    "    fp = sum(confusion_poly[j][i] for j in range(len(class_labels)) if j != i)\n",
    "    fn = sum(confusion_poly[i][j] for j in range(len(class_labels)) if j != i)\n",
    "    precision = tp / (tp + fp)\n",
    "    recall = tp / (tp + fn)\n",
    "    if precision + recall == 0:\n",
    "        f1 = 0\n",
    "    else:\n",
    "        f1 = 2 * (precision * recall) / (precision + recall)\n",
    "    \n",
    "    print(f\"\\nClass {class_labels[i]}:\")\n",
    "    print(f\"Precision: {precision:.2f}\")\n",
    "    print(f\"Recall: {recall:.2f}\")\n",
    "    print(f\"F1 Score: {f1:.2f}\")\n",
    "\n",
    "# Calculate and output the Accuracy for each class in polycrystalline\n",
    "for i in range(len(class_labels)):\n",
    "    tp = confusion_poly[i][i]\n",
    "    tn = sum(confusion_poly[j][k] for j in range(len(class_labels)) for k in range(len(class_labels)) if j != i and k != i)\n",
    "    fp = sum(confusion_poly[j][i] for j in range(len(class_labels)) if j != i)\n",
    "    fn = sum(confusion_poly[i][j] for j in range(len(class_labels)) if j != i)\n",
    "    \n",
    "    accuracy_class_i = (tp + tn) / (tp + tn + fp + fn)\n",
    "    \n",
    "    print(f\"\\nClass {class_labels[i]} in polycrystalline:\")\n",
    "    print(f\"Accuracy: {accuracy_class_i:.2%}\")"
   ]
  },
  {
   "cell_type": "code",
   "execution_count": 48,
   "id": "db861923",
   "metadata": {},
   "outputs": [
    {
     "name": "stdout",
     "output_type": "stream",
     "text": [
      "Number of '0.0' images successfully classified: 349\n",
      "Successfully classified '0.0' image index: [  1   2   4   5   9  13  19  23  26  27  28  30  31  32  36  40  41  42\n",
      "  43  44  45  46  47  48  49  50  52  53  60  61  62  63  66  67  71  74\n",
      "  78  79  80  81  83  85  86  87  90  92  93  94  95  96  97  98  99 101\n",
      " 104 106 108 109 111 112 114 117 119 121 122 123 124 125 128 132 134 135\n",
      " 139 140 141 142 145 148 149 150 151 152 153 155 156 159 160 162 164 168\n",
      " 169 173 175 177 178 180 182 186 187 189 190 193 195 196 199 202 203 204\n",
      " 205 206 207 209 210 212 213 214 216 217 218 219 223 224 227 229 231 232\n",
      " 233 235 236 238 240 241 244 245 246 248 249 250 251 252 253 255 256 258\n",
      " 259 260 261 264 266 268 269 273 275 279 280 281 282 284 286 289 290 291\n",
      " 292 293 294 296 297 298 299 300 304 308 310 313 314 316 317 321 322 323\n",
      " 324 325 327 328 329 331 332 335 336 337 338 341 342 344 345 347 348 349\n",
      " 350 352 353 356 360 361 363 366 370 371 372 375 376 377 378 379 381 383\n",
      " 384 385 386 387 390 391 392 394 399 400 402 404 406 408 411 412 413 415\n",
      " 416 417 420 421 423 424 425 428 431 435 436 441 442 445 446 447 449 451\n",
      " 452 455 456 457 458 464 466 472 474 475 480 481 482 485 488 490 494 495\n",
      " 497 498 502 505 506 507 508 510 512 513 520 521 522 527 528 529 531 532\n",
      " 533 534 536 537 538 539 541 542 544 549 551 552 553 554 556 558 560 562\n",
      " 567 571 573 574 579 581 582 584 585 586 587 588 589 590 593 594 595 596\n",
      " 600 605 606 608 615 616 617 618 619 620 622 624 625 626 628 631 632 634\n",
      " 637 638 639 643 644 645 655]\n"
     ]
    }
   ],
   "source": [
    "# Number and index of '0.0' images successfully classified\n",
    "success_0_indices = np.where((y_test.astype(\"str\") == '0.0') & (predict_labels == '0.0'))[0]\n",
    "print(f\"Number of '0.0' images successfully classified: {len(success_0_indices)}\")\n",
    "print(f\"Successfully classified '0.0' image index: {success_0_indices}\")"
   ]
  },
  {
   "cell_type": "code",
   "execution_count": 49,
   "id": "e93848da",
   "metadata": {},
   "outputs": [
    {
     "name": "stdout",
     "output_type": "stream",
     "text": [
      "The number of misclassified images: 220\n",
      "Misclassified image index: [  0   3   6   8  10  11  12  14  15  16  17  20  22  25  29  33  35  37\n",
      "  38  39  51  54  55  56  59  64  65  68  70  73  76  77  82  84  88  91\n",
      " 102 103 107 110 115 118 120 126 129 130 133 136 143 144 154 157 158 161\n",
      " 165 166 167 170 172 174 176 179 183 184 185 188 192 197 198 200 201 208\n",
      " 211 215 225 226 228 234 237 239 242 243 254 257 265 270 271 276 278 285\n",
      " 287 295 301 303 306 307 309 311 312 315 319 320 326 333 339 340 343 346\n",
      " 351 354 357 359 364 365 367 368 373 380 382 395 396 403 405 407 409 410\n",
      " 414 418 419 422 426 427 429 430 432 433 434 437 438 440 444 448 450 453\n",
      " 454 460 461 462 463 465 469 470 471 476 477 479 483 484 486 487 489 492\n",
      " 493 496 499 500 501 504 509 515 516 517 518 523 524 525 526 530 535 540\n",
      " 545 546 547 548 550 555 561 563 564 565 568 569 570 572 575 576 580 591\n",
      " 597 598 599 601 603 607 610 612 614 621 623 627 633 635 636 642 646 647\n",
      " 648 652 653 654]\n"
     ]
    }
   ],
   "source": [
    "# Number and index of misclassified images\n",
    "misclassified_indices = np.where(y_test.astype(\"str\") != predict_labels)[0]\n",
    "print(\"The number of misclassified images:\", len(misclassified_indices))\n",
    "print(\"Misclassified image index:\", misclassified_indices)"
   ]
  },
  {
   "cell_type": "code",
   "execution_count": null,
   "id": "d64c73b0",
   "metadata": {},
   "outputs": [],
   "source": []
  }
 ],
 "metadata": {
  "celltoolbar": "Edit Metadata",
  "kernelspec": {
   "display_name": "Python 3 (ipykernel)",
   "language": "python",
   "name": "python3"
  },
  "language_info": {
   "codemirror_mode": {
    "name": "ipython",
    "version": 3
   },
   "file_extension": ".py",
   "mimetype": "text/x-python",
   "name": "python",
   "nbconvert_exporter": "python",
   "pygments_lexer": "ipython3",
   "version": "3.8.18"
  }
 },
 "nbformat": 4,
 "nbformat_minor": 5
}
